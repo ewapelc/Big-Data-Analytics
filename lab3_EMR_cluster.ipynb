{
 "cells": [
  {
   "cell_type": "markdown",
   "metadata": {
    "application/vnd.databricks.v1+cell": {
     "cellMetadata": {
      "byteLimit": 2048000,
      "rowLimit": 10000
     },
     "inputWidgets": {},
     "nuid": "2b550f26-e8a0-4edd-972e-54b1f63649aa",
     "showTitle": false,
     "title": ""
    }
   },
   "source": [
    "## Spark cluster intro Air quality examples"
   ]
  },
  {
   "cell_type": "markdown",
   "metadata": {
    "application/vnd.databricks.v1+cell": {
     "cellMetadata": {
      "byteLimit": 2048000,
      "rowLimit": 10000
     },
     "inputWidgets": {},
     "nuid": "67514099-a0f6-4296-ba2a-b99ce344e37f",
     "showTitle": false,
     "title": ""
    }
   },
   "source": [
    "### Initialization\n",
    "Create and attach cluster created in EMR. \n",
    "\n",
    "The important configuration options:\n",
    " - Amazon EMR version: emr-7.1.0\n",
    " - Installed applications: JupyterHub 1.5.0\n",
    " - Logs in Amazon S3: disabled\n",
    " - Service role for Amazon EMR: EMR_DefaultRole \n",
    " - EC2 instance profile: EMR_EC2_DefaultRole\n",
    " - EC2 security groups (firewall): open ports 9443, 18080\n",
    " \n",
    "Login: jovyan, password: jupyter"
   ]
  },
  {
   "cell_type": "code",
   "execution_count": 1,
   "metadata": {
    "application/vnd.databricks.v1+cell": {
     "cellMetadata": {
      "byteLimit": 2048000,
      "rowLimit": 10000
     },
     "inputWidgets": {},
     "nuid": "67a37c1d-a889-4c0f-b741-a236203aab6a",
     "showTitle": false,
     "title": ""
    },
    "execution": {
     "iopub.execute_input": "2022-11-04T19:19:44.508099Z",
     "iopub.status.busy": "2022-11-04T19:19:44.507857Z",
     "iopub.status.idle": "2022-11-04T19:20:23.275027Z",
     "shell.execute_reply": "2022-11-04T19:20:23.273784Z",
     "shell.execute_reply.started": "2022-11-04T19:19:44.508074Z"
    },
    "tags": []
   },
   "outputs": [
    {
     "name": "stdout",
     "output_type": "stream",
     "text": [
      "Starting Spark application\n"
     ]
    },
    {
     "data": {
      "text/html": [
       "<table>\n",
       "<tr><th>ID</th><th>YARN Application ID</th><th>Kind</th><th>State</th><th>Spark UI</th><th>Driver log</th><th>User</th><th>Current session?</th></tr><tr><td>5</td><td>application_1730905672505_0006</td><td>pyspark</td><td>idle</td><td><a target=\"_blank\" href=\"http://ip-172-31-22-70.ec2.internal:20888/proxy/application_1730905672505_0006/\">Link</a></td><td><a target=\"_blank\" href=\"http://ip-172-31-27-187.ec2.internal:8042/node/containerlogs/container_1730905672505_0006_01_000001/livy\">Link</a></td><td>None</td><td>✔</td></tr></table>"
      ],
      "text/plain": [
       "<IPython.core.display.HTML object>"
      ]
     },
     "metadata": {},
     "output_type": "display_data"
    },
    {
     "data": {
      "application/vnd.jupyter.widget-view+json": {
       "model_id": "",
       "version_major": 2,
       "version_minor": 0
      },
      "text/plain": [
       "FloatProgress(value=0.0, bar_style='info', description='Progress:', layout=Layout(height='25px', width='50%'),…"
      ]
     },
     "metadata": {},
     "output_type": "display_data"
    },
    {
     "name": "stdout",
     "output_type": "stream",
     "text": [
      "SparkSession available as 'spark'.\n"
     ]
    },
    {
     "data": {
      "application/vnd.jupyter.widget-view+json": {
       "model_id": "",
       "version_major": 2,
       "version_minor": 0
      },
      "text/plain": [
       "FloatProgress(value=0.0, bar_style='info', description='Progress:', layout=Layout(height='25px', width='50%'),…"
      ]
     },
     "metadata": {},
     "output_type": "display_data"
    }
   ],
   "source": [
    "from pyspark.sql import SparkSession\n",
    "from pyspark.conf import SparkConf\n",
    "spark = SparkSession.builder.getOrCreate()"
   ]
  },
  {
   "cell_type": "code",
   "execution_count": 2,
   "metadata": {},
   "outputs": [
    {
     "name": "stdout",
     "output_type": "stream",
     "text": [
      "Starting Spark application\n"
     ]
    },
    {
     "data": {
      "text/html": [
       "<table>\n",
       "<tr><th>ID</th><th>YARN Application ID</th><th>Kind</th><th>State</th><th>Spark UI</th><th>Driver log</th><th>User</th><th>Current session?</th></tr><tr><td>6</td><td>application_1730905672505_0007</td><td>pyspark</td><td>idle</td><td><a target=\"_blank\" href=\"http://ip-172-31-22-70.ec2.internal:20888/proxy/application_1730905672505_0007/\">Link</a></td><td><a target=\"_blank\" href=\"http://ip-172-31-27-187.ec2.internal:8042/node/containerlogs/container_1730905672505_0007_01_000001/livy\">Link</a></td><td>None</td><td>✔</td></tr></table>"
      ],
      "text/plain": [
       "<IPython.core.display.HTML object>"
      ]
     },
     "metadata": {},
     "output_type": "display_data"
    },
    {
     "data": {
      "application/vnd.jupyter.widget-view+json": {
       "model_id": "",
       "version_major": 2,
       "version_minor": 0
      },
      "text/plain": [
       "FloatProgress(value=0.0, bar_style='info', description='Progress:', layout=Layout(height='25px', width='50%'),…"
      ]
     },
     "metadata": {},
     "output_type": "display_data"
    },
    {
     "name": "stdout",
     "output_type": "stream",
     "text": [
      "SparkSession available as 'spark'.\n"
     ]
    },
    {
     "data": {
      "text/html": [
       "Current session configs: <tt>{'conf': {'spark.pyspark.python': 'python3', 'spark.pyspark.virtualenv.enabled': 'true', 'spark.pyspark.virtualenv.type': 'native', 'spark.pyspark.virtualenv.bin.path': '/usr/bin/virtualenv'}, 'proxyUser': 'jovyan', 'kind': 'pyspark'}</tt><br>"
      ],
      "text/plain": [
       "<IPython.core.display.HTML object>"
      ]
     },
     "metadata": {},
     "output_type": "display_data"
    },
    {
     "data": {
      "text/html": [
       "<table>\n",
       "<tr><th>ID</th><th>YARN Application ID</th><th>Kind</th><th>State</th><th>Spark UI</th><th>Driver log</th><th>User</th><th>Current session?</th></tr><tr><td>6</td><td>application_1730905672505_0007</td><td>pyspark</td><td>idle</td><td><a target=\"_blank\" href=\"http://ip-172-31-22-70.ec2.internal:20888/proxy/application_1730905672505_0007/\">Link</a></td><td><a target=\"_blank\" href=\"http://ip-172-31-27-187.ec2.internal:8042/node/containerlogs/container_1730905672505_0007_01_000001/livy\">Link</a></td><td>None</td><td>✔</td></tr></table>"
      ],
      "text/plain": [
       "<IPython.core.display.HTML object>"
      ]
     },
     "metadata": {},
     "output_type": "display_data"
    }
   ],
   "source": [
    "%%configure -f\n",
    "{\n",
    "    \"conf\": {\n",
    "        \"spark.pyspark.python\": \"python3\",\n",
    "        \"spark.pyspark.virtualenv.enabled\": \"true\",\n",
    "        \"spark.pyspark.virtualenv.type\":\"native\",\n",
    "        \"spark.pyspark.virtualenv.bin.path\":\"/usr/bin/virtualenv\"\n",
    "    }\n",
    "}"
   ]
  },
  {
   "cell_type": "code",
   "execution_count": 3,
   "metadata": {},
   "outputs": [
    {
     "data": {
      "application/vnd.jupyter.widget-view+json": {
       "model_id": "",
       "version_major": 2,
       "version_minor": 0
      },
      "text/plain": [
       "FloatProgress(value=0.0, bar_style='info', description='Progress:', layout=Layout(height='25px', width='50%'),…"
      ]
     },
     "metadata": {},
     "output_type": "display_data"
    },
    {
     "name": "stdout",
     "output_type": "stream",
     "text": [
      "Collecting pandas\n",
      "  Downloading pandas-2.2.3-cp39-cp39-manylinux_2_17_x86_64.manylinux2014_x86_64.whl (13.1 MB)\n",
      "Collecting tzdata>=2022.7\n",
      "  Downloading tzdata-2024.2-py2.py3-none-any.whl (346 kB)\n",
      "Collecting numpy>=1.22.4\n",
      "  Downloading numpy-2.0.2-cp39-cp39-manylinux_2_17_x86_64.manylinux2014_x86_64.whl (19.5 MB)\n",
      "Requirement already satisfied: pytz>=2020.1 in /usr/local/lib/python3.9/site-packages (from pandas) (2024.1)\n",
      "Collecting python-dateutil>=2.8.2\n",
      "  Downloading python_dateutil-2.9.0.post0-py2.py3-none-any.whl (229 kB)\n",
      "Requirement already satisfied: six>=1.5 in /usr/local/lib/python3.9/site-packages (from python-dateutil>=2.8.2->pandas) (1.13.0)\n",
      "Installing collected packages: tzdata, python-dateutil, numpy, pandas\n",
      "  Attempting uninstall: python-dateutil\n",
      "    Found existing installation: python-dateutil 2.8.1\n",
      "    Not uninstalling python-dateutil at /usr/lib/python3.9/site-packages, outside environment /mnt1/yarn/usercache/livy/appcache/application_1730905672505_0007/container_1730905672505_0007_01_000001/tmp/spark-fcc58d45-b46e-42b4-876c-c1246fd1f35a\n",
      "    Can't uninstall 'python-dateutil'. No files were found to uninstall.\n",
      "Successfully installed numpy-2.0.2 pandas-2.2.3 python-dateutil-2.9.0.post0 tzdata-2024.2\n",
      "\n",
      "Collecting matplotlib\n",
      "  Downloading matplotlib-3.9.2-cp39-cp39-manylinux_2_17_x86_64.manylinux2014_x86_64.whl (8.3 MB)\n",
      "Collecting importlib-resources>=3.2.0\n",
      "  Downloading importlib_resources-6.4.5-py3-none-any.whl (36 kB)\n",
      "Collecting contourpy>=1.0.1\n",
      "  Downloading contourpy-1.3.0-cp39-cp39-manylinux_2_17_x86_64.manylinux2014_x86_64.whl (321 kB)\n",
      "Collecting pyparsing>=2.3.1\n",
      "  Downloading pyparsing-3.2.0-py3-none-any.whl (106 kB)\n",
      "Requirement already satisfied: python-dateutil>=2.7 in ./tmp/spark-fcc58d45-b46e-42b4-876c-c1246fd1f35a/lib/python3.9/site-packages (from matplotlib) (2.9.0.post0)\n",
      "Collecting pillow>=8\n",
      "  Downloading pillow-11.0.0-cp39-cp39-manylinux_2_28_x86_64.whl (4.4 MB)\n",
      "Collecting packaging>=20.0\n",
      "  Downloading packaging-24.1-py3-none-any.whl (53 kB)\n",
      "Collecting cycler>=0.10\n",
      "  Downloading cycler-0.12.1-py3-none-any.whl (8.3 kB)\n",
      "Requirement already satisfied: numpy>=1.23 in ./tmp/spark-fcc58d45-b46e-42b4-876c-c1246fd1f35a/lib64/python3.9/site-packages (from matplotlib) (2.0.2)\n",
      "Collecting kiwisolver>=1.3.1\n",
      "  Downloading kiwisolver-1.4.7-cp39-cp39-manylinux_2_12_x86_64.manylinux2010_x86_64.whl (1.6 MB)\n",
      "Collecting fonttools>=4.22.0\n",
      "  Downloading fonttools-4.54.1-cp39-cp39-manylinux_2_17_x86_64.manylinux2014_x86_64.whl (4.6 MB)\n",
      "Collecting zipp>=3.1.0\n",
      "  Downloading zipp-3.20.2-py3-none-any.whl (9.2 kB)\n",
      "Requirement already satisfied: six>=1.5 in /usr/local/lib/python3.9/site-packages (from python-dateutil>=2.7->matplotlib) (1.13.0)\n",
      "Installing collected packages: zipp, pyparsing, pillow, packaging, kiwisolver, importlib-resources, fonttools, cycler, contourpy, matplotlib\n",
      "Successfully installed contourpy-1.3.0 cycler-0.12.1 fonttools-4.54.1 importlib-resources-6.4.5 kiwisolver-1.4.7 matplotlib-3.9.2 packaging-24.1 pillow-11.0.0 pyparsing-3.2.0 zipp-3.20.2\n",
      "\n",
      "WARNING: The directory '/home/.cache/pip' or its parent directory is not owned or is not writable by the current user. The cache has been disabled. Check the permissions and owner of that directory. If executing pip with sudo, you should use sudo's -H flag.\n",
      "ERROR: pip's dependency resolver does not currently take into account all the packages that are installed. This behaviour is the source of the following dependency conflicts.\n",
      "awscli 2.15.30 requires python-dateutil<=2.8.2,>=2.1, but you have python-dateutil 2.9.0.post0 which is incompatible.\n",
      "\n",
      "WARNING: The directory '/home/.cache/pip' or its parent directory is not owned or is not writable by the current user. The cache has been disabled. Check the permissions and owner of that directory. If executing pip with sudo, you should use sudo's -H flag."
     ]
    }
   ],
   "source": [
    "# run once per session to install additional packages\n",
    "sc.install_pypi_package(\"pandas\")\n",
    "sc.install_pypi_package(\"matplotlib\")"
   ]
  },
  {
   "cell_type": "code",
   "execution_count": 4,
   "metadata": {
    "application/vnd.databricks.v1+cell": {
     "cellMetadata": {
      "byteLimit": 2048000,
      "rowLimit": 10000
     },
     "inputWidgets": {},
     "nuid": "a88b1d0d-29ee-435a-88ab-5d2cdfbe501a",
     "showTitle": false,
     "title": ""
    }
   },
   "outputs": [
    {
     "data": {
      "application/vnd.jupyter.widget-view+json": {
       "model_id": "",
       "version_major": 2,
       "version_minor": 0
      },
      "text/plain": [
       "FloatProgress(value=0.0, bar_style='info', description='Progress:', layout=Layout(height='25px', width='50%'),…"
      ]
     },
     "metadata": {},
     "output_type": "display_data"
    }
   ],
   "source": [
    "from pyspark.sql.functions import col, mean\n",
    "import matplotlib.pyplot as plt\n",
    "import pandas as pd\n",
    "import time"
   ]
  },
  {
   "cell_type": "markdown",
   "metadata": {
    "application/vnd.databricks.v1+cell": {
     "cellMetadata": {
      "byteLimit": 2048000,
      "rowLimit": 10000
     },
     "inputWidgets": {},
     "nuid": "e9b09d89-b7d0-4cdb-b300-404f5b54a87b",
     "showTitle": false,
     "title": ""
    }
   },
   "source": [
    "### Reading data from AWS S3\n",
    "\n",
    "Now we can read a small sample of data:"
   ]
  },
  {
   "cell_type": "code",
   "execution_count": 5,
   "metadata": {},
   "outputs": [
    {
     "data": {
      "application/vnd.jupyter.widget-view+json": {
       "model_id": "",
       "version_major": 2,
       "version_minor": 0
      },
      "text/plain": [
       "FloatProgress(value=0.0, bar_style='info', description='Progress:', layout=Layout(height='25px', width='50%'),…"
      ]
     },
     "metadata": {},
     "output_type": "display_data"
    },
    {
     "name": "stdout",
     "output_type": "stream",
     "text": [
      "321.49365973472595"
     ]
    }
   ],
   "source": [
    "start = time.time()\n",
    "\n",
    "# wczytanie danych z plików CSV, które są skompresowane i znajdują się w lokalizacji w Amazon 3 \n",
    "smog_df = spark \\\n",
    "    .read \\\n",
    "    .format(\"csv\") \\\n",
    "    .option(\"compression\", \"gzip\") \\\n",
    "    .option(\"header\", True) \\\n",
    "    .load(\"s3a://openaq-data-archive/records/csv.gz/locationid=10*/year=2022/month=05/*.csv.gz\")\n",
    "\n",
    "end = time.time()\n",
    "print(end - start)"
   ]
  },
  {
   "cell_type": "code",
   "execution_count": 6,
   "metadata": {},
   "outputs": [
    {
     "data": {
      "application/vnd.jupyter.widget-view+json": {
       "model_id": "",
       "version_major": 2,
       "version_minor": 0
      },
      "text/plain": [
       "FloatProgress(value=0.0, bar_style='info', description='Progress:', layout=Layout(height='25px', width='50%'),…"
      ]
     },
     "metadata": {},
     "output_type": "display_data"
    },
    {
     "name": "stdout",
     "output_type": "stream",
     "text": [
      "DataFrame[location_id: string, sensors_id: string, location: string, datetime: string, lat: string, lon: string, parameter: string, units: string, value: string]"
     ]
    }
   ],
   "source": [
    "# Further queries on smog_df will run much faster when we cache this data set in memory\n",
    "smog_df.cache()"
   ]
  },
  {
   "cell_type": "code",
   "execution_count": 7,
   "metadata": {},
   "outputs": [],
   "source": [
    "start = time.time()\n",
    "\n",
    "# oblicza liczbę wierszy w smog_df\n",
    "print(smog_df.count())\n",
    "end = time.time()\n",
    "print(end - start)"
   ]
  },
  {
   "cell_type": "code",
   "execution_count": 8,
   "metadata": {
    "application/vnd.databricks.v1+cell": {
     "cellMetadata": {
      "byteLimit": 2048000,
      "rowLimit": 10000
     },
     "inputWidgets": {},
     "nuid": "dbfac42d-d81f-499d-8459-069bcbbd009a",
     "showTitle": false,
     "title": ""
    }
   },
   "outputs": [],
   "source": [
    "smog_df.printSchema()"
   ]
  },
  {
   "cell_type": "code",
   "execution_count": 7,
   "metadata": {},
   "outputs": [
    {
     "data": {
      "application/vnd.jupyter.widget-view+json": {
       "model_id": "",
       "version_major": 2,
       "version_minor": 0
      },
      "text/plain": [
       "FloatProgress(value=0.0, bar_style='info', description='Progress:', layout=Layout(height='25px', width='50%'),…"
      ]
     },
     "metadata": {},
     "output_type": "display_data"
    }
   ],
   "source": [
    "smog_df = smog_df.withColumn(\"value\", smog_df.value.cast('double'))"
   ]
  },
  {
   "cell_type": "code",
   "execution_count": 10,
   "metadata": {},
   "outputs": [],
   "source": [
    "\n",
    "smog_df.printSchema()"
   ]
  },
  {
   "cell_type": "markdown",
   "metadata": {
    "application/vnd.databricks.v1+cell": {
     "cellMetadata": {
      "byteLimit": 2048000,
      "rowLimit": 10000
     },
     "inputWidgets": {},
     "nuid": "9836853f-5ef1-4679-af42-b45e097d7f7e",
     "showTitle": false,
     "title": ""
    }
   },
   "source": [
    "### Simple queries"
   ]
  },
  {
   "cell_type": "code",
   "execution_count": 11,
   "metadata": {},
   "outputs": [],
   "source": [
    "smog_df.limit(10).show()"
   ]
  },
  {
   "cell_type": "code",
   "execution_count": null,
   "metadata": {},
   "outputs": [],
   "source": []
  },
  {
   "cell_type": "code",
   "execution_count": 12,
   "metadata": {
    "application/vnd.databricks.v1+cell": {
     "cellMetadata": {
      "byteLimit": 2048000,
      "rowLimit": 10000
     },
     "inputWidgets": {},
     "nuid": "31f7b75e-bae5-48de-ae4c-ddd2ec3b52ea",
     "showTitle": false,
     "title": ""
    },
    "execution": {
     "iopub.execute_input": "2022-11-04T19:22:01.456926Z",
     "iopub.status.busy": "2022-11-04T19:22:01.456751Z",
     "iopub.status.idle": "2022-11-04T19:22:24.804450Z",
     "shell.execute_reply": "2022-11-04T19:22:24.803684Z",
     "shell.execute_reply.started": "2022-11-04T19:22:01.456903Z"
    }
   },
   "outputs": [],
   "source": [
    "smog_df.select('parameter').distinct().show()"
   ]
  },
  {
   "cell_type": "code",
   "execution_count": 8,
   "metadata": {
    "application/vnd.databricks.v1+cell": {
     "cellMetadata": {
      "byteLimit": 2048000,
      "rowLimit": 10000
     },
     "inputWidgets": {},
     "nuid": "9fc776b3-7dde-411a-836c-09b0be698814",
     "showTitle": false,
     "title": ""
    },
    "execution": {
     "iopub.execute_input": "2022-11-04T19:23:09.501204Z",
     "iopub.status.busy": "2022-11-04T19:23:09.501004Z",
     "iopub.status.idle": "2022-11-04T19:23:09.569815Z",
     "shell.execute_reply": "2022-11-04T19:23:09.568857Z",
     "shell.execute_reply.started": "2022-11-04T19:23:09.501180Z"
    }
   },
   "outputs": [
    {
     "data": {
      "application/vnd.jupyter.widget-view+json": {
       "model_id": "",
       "version_major": 2,
       "version_minor": 0
      },
      "text/plain": [
       "FloatProgress(value=0.0, bar_style='info', description='Progress:', layout=Layout(height='25px', width='50%'),…"
      ]
     },
     "metadata": {},
     "output_type": "display_data"
    }
   ],
   "source": [
    "from pyspark.sql.functions import col, asc, desc, max"
   ]
  },
  {
   "cell_type": "markdown",
   "metadata": {
    "application/vnd.databricks.v1+cell": {
     "cellMetadata": {
      "byteLimit": 2048000,
      "rowLimit": 10000
     },
     "inputWidgets": {},
     "nuid": "d660c8cd-06b6-495c-be40-63df2b4cd40f",
     "showTitle": false,
     "title": ""
    }
   },
   "source": [
    "### Some more interesting statistics"
   ]
  },
  {
   "cell_type": "code",
   "execution_count": 14,
   "metadata": {
    "application/vnd.databricks.v1+cell": {
     "cellMetadata": {
      "byteLimit": 2048000,
      "rowLimit": 10000
     },
     "inputWidgets": {},
     "nuid": "2d66c7bb-941a-4189-8c22-d4b5d286628d",
     "showTitle": false,
     "title": ""
    },
    "execution": {
     "iopub.execute_input": "2022-11-04T19:23:31.245899Z",
     "iopub.status.busy": "2022-11-04T19:23:31.245647Z",
     "iopub.status.idle": "2022-11-04T19:23:31.505221Z",
     "shell.execute_reply": "2022-11-04T19:23:31.504509Z",
     "shell.execute_reply.started": "2022-11-04T19:23:31.245864Z"
    }
   },
   "outputs": [],
   "source": [
    "start = time.time()\n",
    "max_pm10 = smog_df.filter(col('parameter')=='pm10')\\\n",
    "            .filter(col('value')>0.0)\\\n",
    "            .groupby('location').agg(max('value').alias('max_pm10'))\\\n",
    "            .sort(desc('max_pm10'))\n",
    "\n",
    "max_pm10.limit(100).show(truncate=False)\n",
    "end = time.time()\n",
    "print(end - start)"
   ]
  },
  {
   "cell_type": "code",
   "execution_count": 15,
   "metadata": {
    "application/vnd.databricks.v1+cell": {
     "cellMetadata": {
      "byteLimit": 2048000,
      "rowLimit": 10000
     },
     "inputWidgets": {},
     "nuid": "2c6ff99d-7785-496c-8ca9-c601b58348d7",
     "showTitle": false,
     "title": ""
    },
    "execution": {
     "iopub.execute_input": "2022-11-04T19:23:56.854730Z",
     "iopub.status.busy": "2022-11-04T19:23:56.854478Z",
     "iopub.status.idle": "2022-11-04T19:23:56.910195Z",
     "shell.execute_reply": "2022-11-04T19:23:56.909522Z",
     "shell.execute_reply.started": "2022-11-04T19:23:56.854696Z"
    }
   },
   "outputs": [],
   "source": [
    "smog_df.filter(col('location').contains('Krak')).select('location').distinct().show(truncate=False)"
   ]
  },
  {
   "cell_type": "code",
   "execution_count": 16,
   "metadata": {},
   "outputs": [],
   "source": [
    "max_pm10.printSchema()"
   ]
  },
  {
   "cell_type": "code",
   "execution_count": 17,
   "metadata": {
    "application/vnd.databricks.v1+cell": {
     "cellMetadata": {
      "byteLimit": 2048000,
      "rowLimit": 10000
     },
     "inputWidgets": {},
     "nuid": "27ace623-a54c-4cf1-955d-3049076fe6a5",
     "showTitle": false,
     "title": ""
    },
    "execution": {
     "iopub.execute_input": "2022-11-04T19:23:58.183292Z",
     "iopub.status.busy": "2022-11-04T19:23:58.183119Z",
     "iopub.status.idle": "2022-11-04T19:23:58.442767Z",
     "shell.execute_reply": "2022-11-04T19:23:58.441832Z",
     "shell.execute_reply.started": "2022-11-04T19:23:58.183271Z"
    }
   },
   "outputs": [],
   "source": [
    "plt.figure()\n",
    "max_pm10.limit(10).toPandas().plot.barh(x='location')"
   ]
  },
  {
   "cell_type": "code",
   "execution_count": 18,
   "metadata": {},
   "outputs": [],
   "source": [
    "# On EMR we need this magic to show the plot\n",
    "%matplot plt"
   ]
  },
  {
   "cell_type": "markdown",
   "metadata": {},
   "source": [
    "## Zadania"
   ]
  },
  {
   "cell_type": "markdown",
   "metadata": {},
   "source": [
    "### Zad 1\n",
    "\n",
    " Znajdź miasta w Polsce, w których średnie stężenie pyłu “pm25” było niższe niż maksymalne stężenie w Berlinie (w całym badanym okresie). Obliczenia wykonaj dla danych z kilku dni. Wyniki posortuj malejąco po stężeniu pm25."
   ]
  },
  {
   "cell_type": "code",
   "execution_count": 126,
   "metadata": {},
   "outputs": [
    {
     "data": {
      "application/vnd.jupyter.widget-view+json": {
       "model_id": "",
       "version_major": 2,
       "version_minor": 0
      },
      "text/plain": [
       "FloatProgress(value=0.0, bar_style='info', description='Progress:', layout=Layout(height='25px', width='50%'),…"
      ]
     },
     "metadata": {},
     "output_type": "display_data"
    },
    {
     "name": "stdout",
     "output_type": "stream",
     "text": [
      "0.5156731605529785"
     ]
    }
   ],
   "source": [
    "start = time.time()\n",
    "\n",
    "# od 3 maja do 9 maja\n",
    "berlin_df = spark \\\n",
    "    .read \\\n",
    "    .format(\"csv\") \\\n",
    "    .option(\"compression\", \"gzip\") \\\n",
    "    .option(\"header\", True) \\\n",
    "    .load(\"s3a://openaq-data-archive/records/csv.gz/locationid=4582/year=2022/month=05/location-4582-2022050[3-9].csv.gz\")\\\n",
    "\n",
    "end = time.time()\n",
    "print(end - start)"
   ]
  },
  {
   "cell_type": "code",
   "execution_count": 127,
   "metadata": {},
   "outputs": [
    {
     "data": {
      "application/vnd.jupyter.widget-view+json": {
       "model_id": "",
       "version_major": 2,
       "version_minor": 0
      },
      "text/plain": [
       "FloatProgress(value=0.0, bar_style='info', description='Progress:', layout=Layout(height='25px', width='50%'),…"
      ]
     },
     "metadata": {},
     "output_type": "display_data"
    },
    {
     "name": "stdout",
     "output_type": "stream",
     "text": [
      "+-----------+----------+------------+--------------------+---------+---------+---------+-----+-----+\n",
      "|location_id|sensors_id|    location|            datetime|      lat|      lon|parameter|units|value|\n",
      "+-----------+----------+------------+--------------------+---------+---------+---------+-----+-----+\n",
      "|       4582|     11363|DEBE032-4582|2022-05-03T02:00:...|52.473192|13.225144|     pm10|µg/m³|18.37|\n",
      "|       4582|     11363|DEBE032-4582|2022-05-03T03:00:...|52.473192|13.225144|     pm10|µg/m³|18.31|\n",
      "|       4582|     11363|DEBE032-4582|2022-05-03T04:00:...|52.473192|13.225144|     pm10|µg/m³|19.77|\n",
      "|       4582|     11363|DEBE032-4582|2022-05-03T05:00:...|52.473192|13.225144|     pm10|µg/m³| 19.7|\n",
      "|       4582|   1300113|DEBE032-4582|2022-05-03T02:00:...|52.473192|13.225144|     pm25|µg/m³|12.31|\n",
      "|       4582|   1300113|DEBE032-4582|2022-05-03T03:00:...|52.473192|13.225144|     pm25|µg/m³|12.84|\n",
      "|       4582|   1300113|DEBE032-4582|2022-05-03T04:00:...|52.473192|13.225144|     pm25|µg/m³| 13.6|\n",
      "|       4582|   1300113|DEBE032-4582|2022-05-03T05:00:...|52.473192|13.225144|     pm25|µg/m³|13.71|\n",
      "|       4582|     11364|DEBE032-4582|2022-05-03T02:00:...|52.473192|13.225144|       o3|µg/m³|34.03|\n",
      "|       4582|     11364|DEBE032-4582|2022-05-03T03:00:...|52.473192|13.225144|       o3|µg/m³|40.87|\n",
      "|       4582|     11364|DEBE032-4582|2022-05-03T04:00:...|52.473192|13.225144|       o3|µg/m³| 35.6|\n",
      "|       4582|     11364|DEBE032-4582|2022-05-03T05:00:...|52.473192|13.225144|       o3|µg/m³| 27.1|\n",
      "|       4582|     11365|DEBE032-4582|2022-05-03T02:00:...|52.473192|13.225144|      no2|µg/m³| 8.35|\n",
      "|       4582|     11365|DEBE032-4582|2022-05-03T03:00:...|52.473192|13.225144|      no2|µg/m³| 7.77|\n",
      "|       4582|     11365|DEBE032-4582|2022-05-03T04:00:...|52.473192|13.225144|      no2|µg/m³| 9.35|\n",
      "|       4582|     11365|DEBE032-4582|2022-05-03T05:00:...|52.473192|13.225144|      no2|µg/m³| 8.99|\n",
      "|       4582|     11363|DEBE032-4582|2022-05-05T02:00:...|52.473192|13.225144|     pm10|µg/m³|19.86|\n",
      "|       4582|     11363|DEBE032-4582|2022-05-05T03:00:...|52.473192|13.225144|     pm10|µg/m³|22.32|\n",
      "|       4582|     11363|DEBE032-4582|2022-05-05T04:00:...|52.473192|13.225144|     pm10|µg/m³|16.28|\n",
      "|       4582|   1300113|DEBE032-4582|2022-05-05T02:00:...|52.473192|13.225144|     pm25|µg/m³|13.42|\n",
      "+-----------+----------+------------+--------------------+---------+---------+---------+-----+-----+\n",
      "only showing top 20 rows"
     ]
    }
   ],
   "source": [
    "berlin_df.show()"
   ]
  },
  {
   "cell_type": "code",
   "execution_count": 128,
   "metadata": {},
   "outputs": [
    {
     "data": {
      "application/vnd.jupyter.widget-view+json": {
       "model_id": "",
       "version_major": 2,
       "version_minor": 0
      },
      "text/plain": [
       "FloatProgress(value=0.0, bar_style='info', description='Progress:', layout=Layout(height='25px', width='50%'),…"
      ]
     },
     "metadata": {},
     "output_type": "display_data"
    },
    {
     "name": "stdout",
     "output_type": "stream",
     "text": [
      "root\n",
      " |-- location_id: string (nullable = true)\n",
      " |-- sensors_id: string (nullable = true)\n",
      " |-- location: string (nullable = true)\n",
      " |-- datetime: string (nullable = true)\n",
      " |-- lat: string (nullable = true)\n",
      " |-- lon: string (nullable = true)\n",
      " |-- parameter: string (nullable = true)\n",
      " |-- units: string (nullable = true)\n",
      " |-- value: string (nullable = true)"
     ]
    }
   ],
   "source": [
    "berlin_df.printSchema()"
   ]
  },
  {
   "cell_type": "code",
   "execution_count": 129,
   "metadata": {},
   "outputs": [
    {
     "data": {
      "application/vnd.jupyter.widget-view+json": {
       "model_id": "",
       "version_major": 2,
       "version_minor": 0
      },
      "text/plain": [
       "FloatProgress(value=0.0, bar_style='info', description='Progress:', layout=Layout(height='25px', width='50%'),…"
      ]
     },
     "metadata": {},
     "output_type": "display_data"
    }
   ],
   "source": [
    "berlin_df = berlin_df.withColumn(\"value\", berlin_df.value.cast('double'))"
   ]
  },
  {
   "cell_type": "code",
   "execution_count": 130,
   "metadata": {},
   "outputs": [
    {
     "data": {
      "application/vnd.jupyter.widget-view+json": {
       "model_id": "",
       "version_major": 2,
       "version_minor": 0
      },
      "text/plain": [
       "FloatProgress(value=0.0, bar_style='info', description='Progress:', layout=Layout(height='25px', width='50%'),…"
      ]
     },
     "metadata": {},
     "output_type": "display_data"
    },
    {
     "name": "stdout",
     "output_type": "stream",
     "text": [
      "+-------------------------+---------+-----+\n",
      "|datetime                 |parameter|value|\n",
      "+-------------------------+---------+-----+\n",
      "|2022-05-09T04:00:00+02:00|pm25     |7.31 |\n",
      "|2022-05-09T03:00:00+02:00|pm25     |6.85 |\n",
      "|2022-05-09T02:00:00+02:00|pm25     |6.7  |\n",
      "|2022-05-07T04:00:00+02:00|pm25     |12.61|\n",
      "|2022-05-07T03:00:00+02:00|pm25     |11.51|\n",
      "|2022-05-07T02:00:00+02:00|pm25     |10.2 |\n",
      "|2022-05-05T04:00:00+02:00|pm25     |11.27|\n",
      "|2022-05-05T03:00:00+02:00|pm25     |14.01|\n",
      "|2022-05-05T02:00:00+02:00|pm25     |13.42|\n",
      "|2022-05-03T05:00:00+02:00|pm25     |13.71|\n",
      "|2022-05-03T04:00:00+02:00|pm25     |13.6 |\n",
      "|2022-05-03T03:00:00+02:00|pm25     |12.84|\n",
      "|2022-05-03T02:00:00+02:00|pm25     |12.31|\n",
      "+-------------------------+---------+-----+"
     ]
    }
   ],
   "source": [
    "berlin_df.filter(col('parameter')==\"pm25\").select('datetime', 'parameter', 'value').distinct().sort(desc('datetime')).show(truncate=False)"
   ]
  },
  {
   "cell_type": "code",
   "execution_count": null,
   "metadata": {},
   "outputs": [],
   "source": []
  },
  {
   "cell_type": "code",
   "execution_count": 131,
   "metadata": {},
   "outputs": [
    {
     "data": {
      "application/vnd.jupyter.widget-view+json": {
       "model_id": "",
       "version_major": 2,
       "version_minor": 0
      },
      "text/plain": [
       "FloatProgress(value=0.0, bar_style='info', description='Progress:', layout=Layout(height='25px', width='50%'),…"
      ]
     },
     "metadata": {},
     "output_type": "display_data"
    },
    {
     "name": "stdout",
     "output_type": "stream",
     "text": [
      "Max pm25 for Berlin:  14.01\n",
      "0.24452805519104004"
     ]
    }
   ],
   "source": [
    "from pyspark.sql import functions as F\n",
    "\n",
    "start = time.time()\n",
    "max_pm25_berlin = berlin_df.filter(col('parameter')==\"pm25\").select(F.max(\"value\")).collect()[0][0]\n",
    "\n",
    "print(\"Max pm25 for Berlin: \", max_pm25_berlin)\n",
    "end = time.time()\n",
    "print(end - start)"
   ]
  },
  {
   "cell_type": "code",
   "execution_count": 132,
   "metadata": {},
   "outputs": [
    {
     "data": {
      "application/vnd.jupyter.widget-view+json": {
       "model_id": "",
       "version_major": 2,
       "version_minor": 0
      },
      "text/plain": [
       "FloatProgress(value=0.0, bar_style='info', description='Progress:', layout=Layout(height='25px', width='50%'),…"
      ]
     },
     "metadata": {},
     "output_type": "display_data"
    },
    {
     "name": "stdout",
     "output_type": "stream",
     "text": [
      "root\n",
      " |-- location_id: string (nullable = true)\n",
      " |-- sensors_id: string (nullable = true)\n",
      " |-- location: string (nullable = true)\n",
      " |-- datetime: string (nullable = true)\n",
      " |-- lat: double (nullable = true)\n",
      " |-- lon: double (nullable = true)\n",
      " |-- parameter: string (nullable = true)\n",
      " |-- units: string (nullable = true)\n",
      " |-- value: double (nullable = true)"
     ]
    }
   ],
   "source": [
    "smog_df = smog_df.withColumn(\"lon\", smog_df.lon.cast('double'))\n",
    "smog_df = smog_df.withColumn(\"lat\", smog_df.lat.cast('double'))\n",
    "\n",
    "smog_df.printSchema()"
   ]
  },
  {
   "cell_type": "code",
   "execution_count": 133,
   "metadata": {},
   "outputs": [
    {
     "data": {
      "application/vnd.jupyter.widget-view+json": {
       "model_id": "",
       "version_major": 2,
       "version_minor": 0
      },
      "text/plain": [
       "FloatProgress(value=0.0, bar_style='info', description='Progress:', layout=Layout(height='25px', width='50%'),…"
      ]
     },
     "metadata": {},
     "output_type": "display_data"
    }
   ],
   "source": [
    "# filtrowanie dł. i szer. geogr.\n",
    "poland_df = smog_df.filter(\n",
    "    (smog_df[\"lat\"] >= 49) & (smog_df[\"lat\"] <= 55) &\n",
    "    (smog_df[\"lon\"] >= 14) & (smog_df[\"lat\"] >= 24)\n",
    ")"
   ]
  },
  {
   "cell_type": "code",
   "execution_count": 134,
   "metadata": {},
   "outputs": [
    {
     "data": {
      "application/vnd.jupyter.widget-view+json": {
       "model_id": "",
       "version_major": 2,
       "version_minor": 0
      },
      "text/plain": [
       "FloatProgress(value=0.0, bar_style='info', description='Progress:', layout=Layout(height='25px', width='50%'),…"
      ]
     },
     "metadata": {},
     "output_type": "display_data"
    }
   ],
   "source": [
    "# filtrowanie dat\n",
    "poland_df = poland_df.filter(F.col(\"datetime\").rlike(r\"2022-05-0[3-9]T\"))"
   ]
  },
  {
   "cell_type": "code",
   "execution_count": 135,
   "metadata": {},
   "outputs": [
    {
     "data": {
      "application/vnd.jupyter.widget-view+json": {
       "model_id": "",
       "version_major": 2,
       "version_minor": 0
      },
      "text/plain": [
       "FloatProgress(value=0.0, bar_style='info', description='Progress:', layout=Layout(height='25px', width='50%'),…"
      ]
     },
     "metadata": {},
     "output_type": "display_data"
    },
    {
     "name": "stdout",
     "output_type": "stream",
     "text": [
      "+-----------+----------+--------------------+--------------------+---------+---------+---------+-----+-------+----------------+\n",
      "|location_id|sensors_id|            location|            datetime|      lat|      lon|parameter|units|  value|            city|\n",
      "+-----------+----------+--------------------+--------------------+---------+---------+---------+-----+-------+----------------+\n",
      "|      10618|     35276|Kędzierzyn-Koźle,...|2022-05-05T01:00:...|50.349608|18.236575|     pm10|µg/m³|33.6813|Kędzierzyn-Koźle|\n",
      "|      10618|     35276|Kędzierzyn-Koźle,...|2022-05-05T02:00:...|50.349608|18.236575|     pm10|µg/m³|35.8368|Kędzierzyn-Koźle|\n",
      "|      10618|     35276|Kędzierzyn-Koźle,...|2022-05-05T03:00:...|50.349608|18.236575|     pm10|µg/m³|34.8195|Kędzierzyn-Koźle|\n",
      "|      10618|     35276|Kędzierzyn-Koźle,...|2022-05-05T04:00:...|50.349608|18.236575|     pm10|µg/m³|35.1892|Kędzierzyn-Koźle|\n",
      "|      10618|     35276|Kędzierzyn-Koźle,...|2022-05-05T05:00:...|50.349608|18.236575|     pm10|µg/m³|35.0769|Kędzierzyn-Koźle|\n",
      "+-----------+----------+--------------------+--------------------+---------+---------+---------+-----+-------+----------------+"
     ]
    }
   ],
   "source": [
    "poland_df = poland_df.withColumn(\"city\", F.split(F.col(\"location\"), \",\")[0])\n",
    "\n",
    "poland_df.limit(5).show()"
   ]
  },
  {
   "cell_type": "code",
   "execution_count": 136,
   "metadata": {},
   "outputs": [
    {
     "data": {
      "application/vnd.jupyter.widget-view+json": {
       "model_id": "",
       "version_major": 2,
       "version_minor": 0
      },
      "text/plain": [
       "FloatProgress(value=0.0, bar_style='info', description='Progress:', layout=Layout(height='25px', width='50%'),…"
      ]
     },
     "metadata": {},
     "output_type": "display_data"
    },
    {
     "name": "stdout",
     "output_type": "stream",
     "text": [
      "+---------------+------------------+\n",
      "|city           |avg_pm25          |\n",
      "+---------------+------------------+\n",
      "|Kielce         |13.091894736842105|\n",
      "|Siedlce        |12.760421052631582|\n",
      "|Żyrardów       |12.690947368421053|\n",
      "|Gdańsk         |12.363646312056737|\n",
      "|Augustów       |11.836842105263155|\n",
      "|Poznań         |11.778208631578948|\n",
      "|Białystok      |11.547368421052632|\n",
      "|Gdynia         |11.390038829787231|\n",
      "|Warszawa       |11.249865470852015|\n",
      "|Ostróda        |11.021867142857143|\n",
      "|Kutno          |10.74736842105263 |\n",
      "|Przemyśl       |10.543248315789473|\n",
      "|Grajewo        |8.819999999999999 |\n",
      "|Elbląg         |8.813812105263157 |\n",
      "|Płock          |8.569157894736843 |\n",
      "| Olsztyn       |7.602771473684211 |\n",
      "|Guty Duże-10570|6.146526315789474 |\n",
      "|Borsukowizna   |3.866315789473684 |\n",
      "+---------------+------------------+\n",
      "\n",
      "2.177856683731079"
     ]
    }
   ],
   "source": [
    "start = time.time()\n",
    "poland_agg = poland_df\\\n",
    "            .filter(col('parameter')=='pm25')\\\n",
    "            .groupby('city')\\\n",
    "            .agg(F.avg('value').alias('avg_pm25'))\\\n",
    "            .select(\"city\", \"avg_pm25\")\\\n",
    "            .filter(col('avg_pm25')<max_pm25_berlin)\\\n",
    "            .sort(desc('avg_pm25'))\n",
    "\n",
    "poland_agg.limit(100).show(truncate=False)\n",
    "end = time.time()\n",
    "print(end - start)"
   ]
  },
  {
   "cell_type": "markdown",
   "metadata": {},
   "source": [
    "### Zad 2\n",
    "\n",
    "Dla danych z wybranych kilku dni przedstaw w ujęciu godzinowym (wybierz czas UTC) najwyższe zanotowane stężenie pm10 w poszczególnych miastach z całego zbioru danych. Wyniki posortuj po rosnąco datach."
   ]
  },
  {
   "cell_type": "code",
   "execution_count": 137,
   "metadata": {},
   "outputs": [
    {
     "data": {
      "application/vnd.jupyter.widget-view+json": {
       "model_id": "",
       "version_major": 2,
       "version_minor": 0
      },
      "text/plain": [
       "FloatProgress(value=0.0, bar_style='info', description='Progress:', layout=Layout(height='25px', width='50%'),…"
      ]
     },
     "metadata": {},
     "output_type": "display_data"
    }
   ],
   "source": [
    "# wybór czasu UTC (+02:00)\n",
    "all_locations = smog_df.filter(col('datetime').contains('+02:00'))\n",
    "\n",
    "# wybór dni od 3 do 9 maja\n",
    "all_locations = all_locations.filter(F.col(\"datetime\").rlike(r\"2022-05-0[3-9]T\"))\n",
    "\n",
    "# dodanie kolumny miasto\n",
    "all_locations = all_locations.withColumn(\"city\", F.split(F.col(\"location\"), \",\")[0])"
   ]
  },
  {
   "cell_type": "code",
   "execution_count": 138,
   "metadata": {},
   "outputs": [
    {
     "data": {
      "application/vnd.jupyter.widget-view+json": {
       "model_id": "",
       "version_major": 2,
       "version_minor": 0
      },
      "text/plain": [
       "FloatProgress(value=0.0, bar_style='info', description='Progress:', layout=Layout(height='25px', width='50%'),…"
      ]
     },
     "metadata": {},
     "output_type": "display_data"
    },
    {
     "name": "stdout",
     "output_type": "stream",
     "text": [
      "+--------------------+--------------------+---------+\n",
      "|            datetime|                city| max_pm10|\n",
      "+--------------------+--------------------+---------+\n",
      "|2022-05-03T00:00:...|      Minnesundvegen| 3.435499|\n",
      "|2022-05-03T00:00:...|       Alnabru-10495|    15.07|\n",
      "|2022-05-03T00:00:...|                Rv 4| 4.208923|\n",
      "|2022-05-03T00:00:...|      Furulund-10562|47.823817|\n",
      "|2022-05-03T00:00:...|       Solheim-10557|35.322361|\n",
      "|2022-05-03T00:00:...|     E6-Tiller-10563|  6.57147|\n",
      "|2022-05-03T00:00:...|   Bankplassen-10880| 5.113611|\n",
      "|2022-05-03T00:00:...|Omkjøringsvegen-1...|   15.246|\n",
      "|2022-05-03T00:00:...|Bjørndalssletta-1...| 4.009861|\n",
      "|2022-05-03T00:00:...|Lillehammer barne...| 5.644444|\n",
      "|2022-05-03T00:00:...|     Elgeseter-10829|15.059702|\n",
      "|2022-05-03T00:00:...|E6 Alna senter-10608| 5.584928|\n",
      "|2022-05-03T00:00:...|        Våland-10507|10.610342|\n",
      "|2022-05-03T00:00:...|Nedre Langgate-10492| 3.724003|\n",
      "|2022-05-03T00:00:...|         Rådal-10546| 9.126392|\n",
      "|2022-05-03T00:00:...| Schancheholen-10809| 5.619611|\n",
      "|2022-05-03T00:00:...|Sofienbergparken-...| 1.701373|\n",
      "|2022-05-03T00:00:...|        Kannik-10612| 6.020972|\n",
      "|2022-05-03T00:00:...|    Bryn skole-10824| 3.740556|\n",
      "|2022-05-03T00:00:...|             Rolland|  5.61395|\n",
      "+--------------------+--------------------+---------+\n",
      "only showing top 20 rows"
     ]
    }
   ],
   "source": [
    "grouped2 = all_locations\\\n",
    "    .filter(col(\"parameter\") == \"pm10\")\\\n",
    "    .groupby(\"datetime\", \"city\")\\\n",
    "    .agg(F.max(\"value\").alias(\"max_pm10\"))\\\n",
    "    .select(\"datetime\", \"city\", \"max_pm10\")\\\n",
    "    .sort(asc(\"datetime\"))\n",
    "\n",
    "\n",
    "grouped2.show()"
   ]
  },
  {
   "cell_type": "code",
   "execution_count": 139,
   "metadata": {},
   "outputs": [
    {
     "data": {
      "application/vnd.jupyter.widget-view+json": {
       "model_id": "",
       "version_major": 2,
       "version_minor": 0
      },
      "text/plain": [
       "FloatProgress(value=0.0, bar_style='info', description='Progress:', layout=Layout(height='25px', width='50%'),…"
      ]
     },
     "metadata": {},
     "output_type": "display_data"
    },
    {
     "name": "stdout",
     "output_type": "stream",
     "text": [
      "+--------------------+\n",
      "|            datetime|\n",
      "+--------------------+\n",
      "|2022-05-03T00:00:...|\n",
      "|2022-05-03T01:00:...|\n",
      "|2022-05-03T02:00:...|\n",
      "|2022-05-03T03:00:...|\n",
      "|2022-05-03T04:00:...|\n",
      "|2022-05-03T05:00:...|\n",
      "|2022-05-03T06:00:...|\n",
      "|2022-05-03T07:00:...|\n",
      "|2022-05-03T08:00:...|\n",
      "|2022-05-03T09:00:...|\n",
      "|2022-05-03T10:00:...|\n",
      "|2022-05-03T11:00:...|\n",
      "|2022-05-03T12:00:...|\n",
      "|2022-05-03T13:00:...|\n",
      "|2022-05-03T14:00:...|\n",
      "|2022-05-03T15:00:...|\n",
      "|2022-05-03T16:00:...|\n",
      "|2022-05-03T17:00:...|\n",
      "|2022-05-03T18:00:...|\n",
      "|2022-05-03T19:00:...|\n",
      "|2022-05-03T20:00:...|\n",
      "|2022-05-03T21:00:...|\n",
      "|2022-05-03T22:00:...|\n",
      "|2022-05-03T23:00:...|\n",
      "|2022-05-04T00:00:...|\n",
      "|2022-05-04T01:00:...|\n",
      "|2022-05-04T02:00:...|\n",
      "|2022-05-04T03:00:...|\n",
      "|2022-05-04T04:00:...|\n",
      "|2022-05-04T05:00:...|\n",
      "|2022-05-04T06:00:...|\n",
      "|2022-05-04T07:00:...|\n",
      "|2022-05-04T08:00:...|\n",
      "|2022-05-04T09:00:...|\n",
      "|2022-05-04T10:00:...|\n",
      "|2022-05-04T11:00:...|\n",
      "|2022-05-04T12:00:...|\n",
      "|2022-05-04T13:00:...|\n",
      "|2022-05-04T14:00:...|\n",
      "|2022-05-04T15:00:...|\n",
      "|2022-05-04T16:00:...|\n",
      "|2022-05-04T17:00:...|\n",
      "|2022-05-04T18:00:...|\n",
      "|2022-05-04T19:00:...|\n",
      "|2022-05-04T20:00:...|\n",
      "|2022-05-04T21:00:...|\n",
      "|2022-05-04T22:00:...|\n",
      "|2022-05-04T23:00:...|\n",
      "|2022-05-05T00:00:...|\n",
      "|2022-05-05T01:00:...|\n",
      "+--------------------+\n",
      "only showing top 50 rows"
     ]
    }
   ],
   "source": [
    "# sprawdzenie czy jest w ujęciu godzinowym\n",
    "grouped2.select(\"datetime\").distinct().sort(asc(\"datetime\")).show(50)"
   ]
  },
  {
   "cell_type": "markdown",
   "metadata": {},
   "source": [
    "### Zad 3\n",
    "\n",
    "Znajdź ranking miast w Europie pod względem średniego zanieczyszczenia liczonego dla N najwyższych pomiarów pod względem “pm25” dla danych z kilku dni. "
   ]
  },
  {
   "cell_type": "code",
   "execution_count": null,
   "metadata": {},
   "outputs": [],
   "source": []
  },
  {
   "cell_type": "code",
   "execution_count": 140,
   "metadata": {},
   "outputs": [
    {
     "data": {
      "application/vnd.jupyter.widget-view+json": {
       "model_id": "",
       "version_major": 2,
       "version_minor": 0
      },
      "text/plain": [
       "FloatProgress(value=0.0, bar_style='info', description='Progress:', layout=Layout(height='25px', width='50%'),…"
      ]
     },
     "metadata": {},
     "output_type": "display_data"
    }
   ],
   "source": [
    "# filtrowanie lon i lat\n",
    "europe_df = smog_df.filter(\n",
    "    (F.col(\"lat\") >= 35.0) & (F.col(\"lat\") <= 70.0) & \n",
    "    (F.col(\"lon\") >= -25.0) & (F.col(\"lon\") <= 45.0)\n",
    ")\n",
    "\n",
    "# wybór dni od 3 do 9 maja\n",
    "europe_df = europe_df.filter(F.col(\"datetime\").rlike(r\"2022-05-0[3-9]T\"))\n",
    "\n",
    "# dodanie kolumny miasto\n",
    "europe_df = europe_df.withColumn(\"city\", F.split(F.col(\"location\"), \",\")[0])\n",
    "\n",
    "# filtrowanie pm25\n",
    "europe_df = europe_df.filter(col(\"parameter\") == \"pm25\")"
   ]
  },
  {
   "cell_type": "code",
   "execution_count": 141,
   "metadata": {},
   "outputs": [
    {
     "data": {
      "application/vnd.jupyter.widget-view+json": {
       "model_id": "",
       "version_major": 2,
       "version_minor": 0
      },
      "text/plain": [
       "FloatProgress(value=0.0, bar_style='info', description='Progress:', layout=Layout(height='25px', width='50%'),…"
      ]
     },
     "metadata": {},
     "output_type": "display_data"
    }
   ],
   "source": [
    "from pyspark.sql import Window\n",
    "\n",
    "# tworzy funkcję okna, do sortowania wartości w obrębie grupy\n",
    "window = Window.partitionBy(\"city\").orderBy(F.desc(\"value\"))"
   ]
  },
  {
   "cell_type": "code",
   "execution_count": 142,
   "metadata": {},
   "outputs": [
    {
     "data": {
      "application/vnd.jupyter.widget-view+json": {
       "model_id": "",
       "version_major": 2,
       "version_minor": 0
      },
      "text/plain": [
       "FloatProgress(value=0.0, bar_style='info', description='Progress:', layout=Layout(height='25px', width='50%'),…"
      ]
     },
     "metadata": {},
     "output_type": "display_data"
    }
   ],
   "source": [
    "# dodanie kolumny z rangą\n",
    "ranked_df = europe_df.withColumn(\"rank\", F.row_number().over(window))"
   ]
  },
  {
   "cell_type": "code",
   "execution_count": 143,
   "metadata": {},
   "outputs": [
    {
     "data": {
      "application/vnd.jupyter.widget-view+json": {
       "model_id": "",
       "version_major": 2,
       "version_minor": 0
      },
      "text/plain": [
       "FloatProgress(value=0.0, bar_style='info', description='Progress:', layout=Layout(height='25px', width='50%'),…"
      ]
     },
     "metadata": {},
     "output_type": "display_data"
    },
    {
     "name": "stdout",
     "output_type": "stream",
     "text": [
      "+--------------------+-------+----+\n",
      "|                city|  value|rank|\n",
      "+--------------------+-------+----+\n",
      "|             Olsztyn|34.0907|   1|\n",
      "|             Olsztyn| 17.761|   2|\n",
      "|             Olsztyn|17.7558|   3|\n",
      "|             Olsztyn|15.3028|   4|\n",
      "|             Olsztyn|15.1081|   5|\n",
      "|       Alnabru-10495|  33.67|   1|\n",
      "|       Alnabru-10495|  22.47|   2|\n",
      "|       Alnabru-10495|  15.48|   3|\n",
      "|       Alnabru-10495|  15.27|   4|\n",
      "|       Alnabru-10495|  14.01|   5|\n",
      "|Amsterdam-Einstei...|   27.5|   1|\n",
      "|Amsterdam-Einstei...|   23.6|   2|\n",
      "|Amsterdam-Einstei...|   23.5|   3|\n",
      "|Amsterdam-Einstei...|   18.2|   4|\n",
      "|Amsterdam-Einstei...|   12.1|   5|\n",
      "|Amsterdam-Hoogtij...|   30.8|   1|\n",
      "|Amsterdam-Hoogtij...|   26.5|   2|\n",
      "|Amsterdam-Hoogtij...|   21.0|   3|\n",
      "|Amsterdam-Hoogtij...|   19.2|   4|\n",
      "|Amsterdam-Hoogtij...|   17.7|   5|\n",
      "+--------------------+-------+----+\n",
      "only showing top 20 rows"
     ]
    }
   ],
   "source": [
    "N = 5\n",
    "\n",
    "# filtracja N najwyższych pomiarów\n",
    "top_n = ranked_df.filter(\n",
    "    F.col(\"rank\") <= N\n",
    ")\n",
    "\n",
    "top_n.select(\"city\", \"value\", \"rank\").show()"
   ]
  },
  {
   "cell_type": "code",
   "execution_count": 144,
   "metadata": {},
   "outputs": [
    {
     "data": {
      "application/vnd.jupyter.widget-view+json": {
       "model_id": "",
       "version_major": 2,
       "version_minor": 0
      },
      "text/plain": [
       "FloatProgress(value=0.0, bar_style='info', description='Progress:', layout=Layout(height='25px', width='50%'),…"
      ]
     },
     "metadata": {},
     "output_type": "display_data"
    },
    {
     "name": "stdout",
     "output_type": "stream",
     "text": [
      "+--------------------+------------------+\n",
      "|                city|          avg_pm25|\n",
      "+--------------------+------------------+\n",
      "|            Radomsko|              88.0|\n",
      "|              Otwock|            74.386|\n",
      "|        Starachowice| 69.28599999999999|\n",
      "|               Radom|            52.336|\n",
      "|            Racibórz| 51.07690000000001|\n",
      "|              Zamość|50.779999999999994|\n",
      "|  Goczałkowice Zdrój|          50.63636|\n",
      "|            Katowice|49.747159999999994|\n",
      "|             Rzeszów|          48.24766|\n",
      "|               Opole|          48.14736|\n",
      "|              Dębica|          46.74238|\n",
      "|            Augustów|              46.4|\n",
      "|              Kalisz|45.401979999999995|\n",
      "|              Lublin|             44.64|\n",
      "|            Warszawa|            43.894|\n",
      "|        Jelenia Góra|          43.41078|\n",
      "|              Kraków|           43.2857|\n",
      "|             Siedlce|42.839999999999996|\n",
      "|              Tarnów|           42.8144|\n",
      "|              Gdańsk|          41.12148|\n",
      "|           Białystok|              39.0|\n",
      "|                Nysa|          38.50304|\n",
      "|             Wrocław|           37.7902|\n",
      "|            Żyrardów|             36.98|\n",
      "|            Jarosław| 36.14739999999999|\n",
      "|               Kutno|              35.4|\n",
      "|    Kędzierzyn-Koźle|          34.12196|\n",
      "|Wschowa ul. Kazim...|          33.58826|\n",
      "|              Kielce|31.528000000000002|\n",
      "|       GR0048A-10519|              30.0|\n",
      "|              Gdynia|28.571379999999998|\n",
      "|Badhoevedorp-Slot...|26.639999999999997|\n",
      "|       RS0036A-10879|26.253999999999998|\n",
      "|       RS0030A-10822|         26.169418|\n",
      "|       RS0033A-10858|         26.116734|\n",
      "|Seljestad Rv83-10827|24.796882800000002|\n",
      "|             Ostróda|          24.37214|\n",
      "|             Grajewo|             23.68|\n",
      "|               Płock|23.631999999999998|\n",
      "|         Złoty Potok|           23.5749|\n",
      "|     Guty Duże-10570|            23.274|\n",
      "|Amsterdam-Hoogtij...|             23.04|\n",
      "|       Sentrum-10543|        22.9079146|\n",
      "|       RS0032A-10837|22.830702000000002|\n",
      "|              Poznań|          22.13884|\n",
      "|Amsterdam-Einstei...|20.979999999999997|\n",
      "|       Alnabru-10495|             20.18|\n",
      "|             Olsztyn|20.003679999999996|\n",
      "|       RO0065A-10779|      19.973676962|\n",
      "|Knarrdalstranda-1...|        19.5598922|\n",
      "+--------------------+------------------+\n",
      "only showing top 50 rows"
     ]
    }
   ],
   "source": [
    "top_n\\\n",
    ".groupby('city')\\\n",
    ".agg(F.avg(\"value\").alias(\"avg_pm25\"))\\\n",
    ".sort(desc(\"avg_pm25\"))\\\n",
    ".show(50)"
   ]
  },
  {
   "cell_type": "markdown",
   "metadata": {},
   "source": [
    "### Zad 4\n",
    "\n",
    "Zwizualizuj na mapie średnie zanieczyszczenie w danym kraju dla wybranych kilku dni względem czasu (mapa + slider czasu albo zbiór klatek i animacja) dla wybranych państw."
   ]
  },
  {
   "cell_type": "code",
   "execution_count": 26,
   "metadata": {},
   "outputs": [
    {
     "data": {
      "application/vnd.jupyter.widget-view+json": {
       "model_id": "",
       "version_major": 2,
       "version_minor": 0
      },
      "text/plain": [
       "FloatProgress(value=0.0, bar_style='info', description='Progress:', layout=Layout(height='25px', width='50%'),…"
      ]
     },
     "metadata": {},
     "output_type": "display_data"
    }
   ],
   "source": [
    "# wybór dni\n",
    "countries_avg = smog_df.filter(F.col(\"datetime\").rlike(r\"2022-05-0[3-9]T\"))\n",
    "\n",
    "\n",
    "# wybór dni\n",
    "countries_avg = countries_avg.filter(F.col(\"parameter\") == \"pm10\")\n",
    "\n",
    "# dodanie kolumny daty\n",
    "countries_avg = countries_avg.withColumn(\"date\", F.split(F.col(\"datetime\"), \"T\")[0])"
   ]
  },
  {
   "cell_type": "code",
   "execution_count": 27,
   "metadata": {},
   "outputs": [
    {
     "data": {
      "application/vnd.jupyter.widget-view+json": {
       "model_id": "",
       "version_major": 2,
       "version_minor": 0
      },
      "text/plain": [
       "FloatProgress(value=0.0, bar_style='info', description='Progress:', layout=Layout(height='25px', width='50%'),…"
      ]
     },
     "metadata": {},
     "output_type": "display_data"
    },
    {
     "name": "stdout",
     "output_type": "stream",
     "text": [
      "+--------------------+----------+\n",
      "|            datetime|      date|\n",
      "+--------------------+----------+\n",
      "|2022-05-05T01:00:...|2022-05-05|\n",
      "|2022-05-05T02:00:...|2022-05-05|\n",
      "|2022-05-05T03:00:...|2022-05-05|\n",
      "|2022-05-05T04:00:...|2022-05-05|\n",
      "|2022-05-05T05:00:...|2022-05-05|\n",
      "+--------------------+----------+"
     ]
    }
   ],
   "source": [
    "countries_avg.select(\"datetime\", \"date\").limit(5).show()"
   ]
  },
  {
   "cell_type": "code",
   "execution_count": 28,
   "metadata": {},
   "outputs": [
    {
     "data": {
      "application/vnd.jupyter.widget-view+json": {
       "model_id": "",
       "version_major": 2,
       "version_minor": 0
      },
      "text/plain": [
       "FloatProgress(value=0.0, bar_style='info', description='Progress:', layout=Layout(height='25px', width='50%'),…"
      ]
     },
     "metadata": {},
     "output_type": "display_data"
    },
    {
     "name": "stdout",
     "output_type": "stream",
     "text": [
      "+----------+-------+-------+\n",
      "|      date|country|  value|\n",
      "+----------+-------+-------+\n",
      "|2022-05-05| Poland|33.6813|\n",
      "|2022-05-05| Poland|35.8368|\n",
      "|2022-05-05| Poland|34.8195|\n",
      "|2022-05-05| Poland|35.1892|\n",
      "|2022-05-05| Poland|35.0769|\n",
      "+----------+-------+-------+"
     ]
    }
   ],
   "source": [
    "# Dodanie kolumny \"country\" na podstawie zakresów współrzędnych\n",
    "countries_avg = countries_avg.withColumn(\n",
    "    \"country\",\n",
    "    F.when((F.col(\"lat\") >= 49.0) & (F.col(\"lat\") <= 55.0) &\n",
    "           (F.col(\"lon\") >= 14.0) & (F.col(\"lon\") <= 24.0), \"Poland\")\n",
    "    .when((F.col(\"lat\") >= 58.0) & (F.col(\"lat\") <= 71.0) &\n",
    "          (F.col(\"lon\") >= 5.0) & (F.col(\"lon\") <= 31.0), \"Norway\")\n",
    "    .when((F.col(\"lat\") >= 55.0) & (F.col(\"lat\") <= 69.0) &\n",
    "          (F.col(\"lon\") >= 11.0) & (F.col(\"lon\") <= 24.0), \"Sweden\")\n",
    "    .otherwise(\"Other\")\n",
    ")\n",
    "\n",
    "\n",
    "countries_avg = countries_avg.filter(col(\"country\") != \"Other\").select(\"date\", \"country\", \"value\")\n",
    "\n",
    "countries_avg.limit(5).show()"
   ]
  },
  {
   "cell_type": "code",
   "execution_count": 29,
   "metadata": {},
   "outputs": [
    {
     "data": {
      "application/vnd.jupyter.widget-view+json": {
       "model_id": "",
       "version_major": 2,
       "version_minor": 0
      },
      "text/plain": [
       "FloatProgress(value=0.0, bar_style='info', description='Progress:', layout=Layout(height='25px', width='50%'),…"
      ]
     },
     "metadata": {},
     "output_type": "display_data"
    },
    {
     "name": "stdout",
     "output_type": "stream",
     "text": [
      "+-------+\n",
      "|country|\n",
      "+-------+\n",
      "| Poland|\n",
      "| Norway|\n",
      "| Sweden|\n",
      "+-------+"
     ]
    }
   ],
   "source": [
    "countries_avg.select(\"country\").distinct().show()"
   ]
  },
  {
   "cell_type": "code",
   "execution_count": 30,
   "metadata": {},
   "outputs": [
    {
     "data": {
      "application/vnd.jupyter.widget-view+json": {
       "model_id": "",
       "version_major": 2,
       "version_minor": 0
      },
      "text/plain": [
       "FloatProgress(value=0.0, bar_style='info', description='Progress:', layout=Layout(height='25px', width='50%'),…"
      ]
     },
     "metadata": {},
     "output_type": "display_data"
    },
    {
     "name": "stdout",
     "output_type": "stream",
     "text": [
      "+-------+----------+------------------+\n",
      "|country|      date|          avg_pm10|\n",
      "+-------+----------+------------------+\n",
      "| Poland|2022-05-09|16.428382379182157|\n",
      "| Poland|2022-05-04|26.220980999999995|\n",
      "| Poland|2022-05-08| 40.31083676470589|\n",
      "| Poland|2022-05-05|26.736254714467005|\n",
      "| Poland|2022-05-03|  27.2068877470107|\n",
      "| Poland|2022-05-06| 27.42870588235294|\n",
      "| Poland|2022-05-07|26.042149744229572|\n",
      "| Norway|2022-05-09|18.784037172484606|\n",
      "| Norway|2022-05-04|20.914759248175184|\n",
      "| Norway|2022-05-05|18.633689332653056|\n",
      "| Norway|2022-05-03|15.024223815134098|\n",
      "| Norway|2022-05-06|20.000957269035535|\n",
      "| Norway|2022-05-08| 9.966320628450106|\n",
      "| Sweden|2022-05-06|          18.87755|\n",
      "| Sweden|2022-05-05|22.796976818181815|\n",
      "| Sweden|2022-05-03|23.364887727272727|\n",
      "| Sweden|2022-05-09|17.260790909090908|\n",
      "| Sweden|2022-05-04|         16.080535|\n",
      "| Sweden|2022-05-07|14.421484772727274|\n",
      "| Norway|2022-05-07| 9.456521739130435|\n",
      "+-------+----------+------------------+"
     ]
    }
   ],
   "source": [
    "countries_avg = countries_avg\\\n",
    "    .groupby(\"country\", \"date\")\\\n",
    "    .agg(F.avg(\"value\").alias(\"avg_pm10\"))\n",
    "\n",
    "countries_avg.show()"
   ]
  },
  {
   "cell_type": "code",
   "execution_count": 33,
   "metadata": {},
   "outputs": [
    {
     "data": {
      "application/vnd.jupyter.widget-view+json": {
       "model_id": "",
       "version_major": 2,
       "version_minor": 0
      },
      "text/plain": [
       "FloatProgress(value=0.0, bar_style='info', description='Progress:', layout=Layout(height='25px', width='50%'),…"
      ]
     },
     "metadata": {},
     "output_type": "display_data"
    },
    {
     "name": "stdout",
     "output_type": "stream",
     "text": [
      "Collecting ipywidgets\n",
      "  Downloading ipywidgets-8.1.5-py3-none-any.whl (139 kB)\n",
      "Collecting comm>=0.1.3\n",
      "  Downloading comm-0.2.2-py3-none-any.whl (7.2 kB)\n",
      "Collecting traitlets>=4.3.1\n",
      "  Downloading traitlets-5.14.3-py3-none-any.whl (85 kB)\n",
      "Collecting ipython>=6.1.0\n",
      "  Downloading ipython-8.18.1-py3-none-any.whl (808 kB)\n",
      "Collecting jupyterlab-widgets~=3.0.12\n",
      "  Downloading jupyterlab_widgets-3.0.13-py3-none-any.whl (214 kB)\n",
      "Collecting widgetsnbextension~=4.0.12\n",
      "  Downloading widgetsnbextension-4.0.13-py3-none-any.whl (2.3 MB)\n",
      "Collecting pygments>=2.4.0\n",
      "  Downloading pygments-2.18.0-py3-none-any.whl (1.2 MB)\n",
      "Collecting pexpect>4.3\n",
      "  Downloading pexpect-4.9.0-py2.py3-none-any.whl (63 kB)\n",
      "Collecting prompt-toolkit<3.1.0,>=3.0.41\n",
      "  Downloading prompt_toolkit-3.0.48-py3-none-any.whl (386 kB)\n",
      "Collecting jedi>=0.16\n",
      "  Downloading jedi-0.19.1-py2.py3-none-any.whl (1.6 MB)\n",
      "Collecting exceptiongroup\n",
      "  Downloading exceptiongroup-1.2.2-py3-none-any.whl (16 kB)\n",
      "Collecting matplotlib-inline\n",
      "  Downloading matplotlib_inline-0.1.7-py3-none-any.whl (9.9 kB)\n",
      "Collecting typing-extensions\n",
      "  Downloading typing_extensions-4.12.2-py3-none-any.whl (37 kB)\n",
      "Collecting decorator\n",
      "  Downloading decorator-5.1.1-py3-none-any.whl (9.1 kB)\n",
      "Collecting stack-data\n",
      "  Downloading stack_data-0.6.3-py3-none-any.whl (24 kB)\n",
      "Collecting parso<0.9.0,>=0.8.3\n",
      "  Downloading parso-0.8.4-py2.py3-none-any.whl (103 kB)\n",
      "Collecting ptyprocess>=0.5\n",
      "  Downloading ptyprocess-0.7.0-py2.py3-none-any.whl (13 kB)\n",
      "Requirement already satisfied: wcwidth in /usr/lib/python3.9/site-packages (from prompt-toolkit<3.1.0,>=3.0.41->ipython>=6.1.0->ipywidgets) (0.2.5)\n",
      "Collecting asttokens>=2.1.0\n",
      "  Downloading asttokens-2.4.1-py2.py3-none-any.whl (27 kB)\n",
      "Collecting executing>=1.2.0\n",
      "  Downloading executing-2.1.0-py2.py3-none-any.whl (25 kB)\n",
      "Collecting pure-eval\n",
      "  Downloading pure_eval-0.2.3-py3-none-any.whl (11 kB)\n",
      "Requirement already satisfied: six>=1.12.0 in /usr/local/lib/python3.9/site-packages (from asttokens>=2.1.0->stack-data->ipython>=6.1.0->ipywidgets) (1.13.0)\n",
      "Installing collected packages: traitlets, pure-eval, ptyprocess, parso, executing, asttokens, typing-extensions, stack-data, pygments, prompt-toolkit, pexpect, matplotlib-inline, jedi, exceptiongroup, decorator, widgetsnbextension, jupyterlab-widgets, ipython, comm, ipywidgets\n",
      "  Attempting uninstall: prompt-toolkit\n",
      "    Found existing installation: prompt-toolkit 3.0.24\n",
      "    Not uninstalling prompt-toolkit at /usr/lib/python3.9/site-packages, outside environment /mnt1/yarn/usercache/livy/appcache/application_1730905672505_0007/container_1730905672505_0007_01_000001/tmp/spark-fcc58d45-b46e-42b4-876c-c1246fd1f35a\n",
      "    Can't uninstall 'prompt-toolkit'. No files were found to uninstall.\n",
      "Successfully installed asttokens-2.4.1 comm-0.2.2 decorator-5.1.1 exceptiongroup-1.2.2 executing-2.1.0 ipython-8.18.1 ipywidgets-8.1.5 jedi-0.19.1 jupyterlab-widgets-3.0.13 matplotlib-inline-0.1.7 parso-0.8.4 pexpect-4.9.0 prompt-toolkit-3.0.48 ptyprocess-0.7.0 pure-eval-0.2.3 pygments-2.18.0 stack-data-0.6.3 traitlets-5.14.3 typing-extensions-4.12.2 widgetsnbextension-4.0.13\n",
      "\n",
      "WARNING: The directory '/home/.cache/pip' or its parent directory is not owned or is not writable by the current user. The cache has been disabled. Check the permissions and owner of that directory. If executing pip with sudo, you should use sudo's -H flag.\n",
      "ERROR: pip's dependency resolver does not currently take into account all the packages that are installed. This behaviour is the source of the following dependency conflicts.\n",
      "awscli 2.15.30 requires prompt-toolkit<3.0.39,>=3.0.24, but you have prompt-toolkit 3.0.48 which is incompatible.\n",
      "awscli 2.15.30 requires python-dateutil<=2.8.2,>=2.1, but you have python-dateutil 2.9.0.post0 which is incompatible."
     ]
    }
   ],
   "source": [
    "sc.install_pypi_package(\"ipywidgets\")"
   ]
  },
  {
   "cell_type": "code",
   "execution_count": 34,
   "metadata": {},
   "outputs": [
    {
     "data": {
      "application/vnd.jupyter.widget-view+json": {
       "model_id": "",
       "version_major": 2,
       "version_minor": 0
      },
      "text/plain": [
       "FloatProgress(value=0.0, bar_style='info', description='Progress:', layout=Layout(height='25px', width='50%'),…"
      ]
     },
     "metadata": {},
     "output_type": "display_data"
    }
   ],
   "source": [
    "import folium\n",
    "from folium.plugins import HeatMap\n",
    "from ipywidgets import interact, IntSlider\n",
    "import matplotlib.pyplot as plt"
   ]
  },
  {
   "cell_type": "code",
   "execution_count": 35,
   "metadata": {},
   "outputs": [
    {
     "data": {
      "application/vnd.jupyter.widget-view+json": {
       "model_id": "",
       "version_major": 2,
       "version_minor": 0
      },
      "text/plain": [
       "FloatProgress(value=0.0, bar_style='info', description='Progress:', layout=Layout(height='25px', width='50%'),…"
      ]
     },
     "metadata": {},
     "output_type": "display_data"
    }
   ],
   "source": [
    "countries_df = countries_avg.toPandas()"
   ]
  },
  {
   "cell_type": "code",
   "execution_count": 36,
   "metadata": {},
   "outputs": [
    {
     "data": {
      "application/vnd.jupyter.widget-view+json": {
       "model_id": "",
       "version_major": 2,
       "version_minor": 0
      },
      "text/plain": [
       "FloatProgress(value=0.0, bar_style='info', description='Progress:', layout=Layout(height='25px', width='50%'),…"
      ]
     },
     "metadata": {},
     "output_type": "display_data"
    },
    {
     "name": "stdout",
     "output_type": "stream",
     "text": [
      "   country        date   avg_pm10\n",
      "0   Poland  2022-05-09  16.428382\n",
      "1   Poland  2022-05-04  26.220981\n",
      "2   Poland  2022-05-08  40.310837\n",
      "3   Poland  2022-05-05  26.736255\n",
      "4   Poland  2022-05-03  27.206888\n",
      "5   Poland  2022-05-06  27.428706\n",
      "6   Poland  2022-05-07  26.042150\n",
      "7   Norway  2022-05-09  18.784037\n",
      "8   Norway  2022-05-04  20.914759\n",
      "9   Norway  2022-05-05  18.633689\n",
      "10  Norway  2022-05-03  15.024224\n",
      "11  Norway  2022-05-06  20.000957\n",
      "12  Norway  2022-05-08   9.966321\n",
      "13  Sweden  2022-05-06  18.877550\n",
      "14  Sweden  2022-05-05  22.796977\n",
      "15  Sweden  2022-05-03  23.364888\n",
      "16  Sweden  2022-05-09  17.260791\n",
      "17  Sweden  2022-05-04  16.080535\n",
      "18  Sweden  2022-05-07  14.421485\n",
      "19  Norway  2022-05-07   9.456522"
     ]
    }
   ],
   "source": [
    "countries_df"
   ]
  },
  {
   "cell_type": "code",
   "execution_count": 38,
   "metadata": {},
   "outputs": [
    {
     "data": {
      "application/vnd.jupyter.widget-view+json": {
       "model_id": "",
       "version_major": 2,
       "version_minor": 0
      },
      "text/plain": [
       "FloatProgress(value=0.0, bar_style='info', description='Progress:', layout=Layout(height='25px', width='50%'),…"
      ]
     },
     "metadata": {},
     "output_type": "display_data"
    },
    {
     "name": "stdout",
     "output_type": "stream",
     "text": [
      "<class 'pandas.core.frame.DataFrame'>\n",
      "RangeIndex: 20 entries, 0 to 19\n",
      "Data columns (total 3 columns):\n",
      " #   Column    Non-Null Count  Dtype         \n",
      "---  ------    --------------  -----         \n",
      " 0   country   20 non-null     object        \n",
      " 1   date      20 non-null     datetime64[ns]\n",
      " 2   avg_pm10  20 non-null     float64       \n",
      "dtypes: datetime64[ns](1), float64(1), object(1)\n",
      "memory usage: 608.0+ bytes"
     ]
    }
   ],
   "source": [
    "countries_df['date'] = pd.to_datetime(countries_df['date'])\n",
    "countries_df.info()"
   ]
  },
  {
   "cell_type": "code",
   "execution_count": 39,
   "metadata": {},
   "outputs": [
    {
     "data": {
      "application/vnd.jupyter.widget-view+json": {
       "model_id": "",
       "version_major": 2,
       "version_minor": 0
      },
      "text/plain": [
       "FloatProgress(value=0.0, bar_style='info', description='Progress:', layout=Layout(height='25px', width='50%'),…"
      ]
     },
     "metadata": {},
     "output_type": "display_data"
    },
    {
     "name": "stdout",
     "output_type": "stream",
     "text": [
      "   country       date   avg_pm10  latitude  longitude\n",
      "0   Poland 2022-05-09  16.428382      52.0       19.0\n",
      "1   Poland 2022-05-04  26.220981      52.0       19.0\n",
      "2   Poland 2022-05-08  40.310837      52.0       19.0\n",
      "3   Poland 2022-05-05  26.736255      52.0       19.0\n",
      "4   Poland 2022-05-03  27.206888      52.0       19.0\n",
      "5   Poland 2022-05-06  27.428706      52.0       19.0\n",
      "6   Poland 2022-05-07  26.042150      52.0       19.0\n",
      "7   Norway 2022-05-09  18.784037      60.0        8.0\n",
      "8   Norway 2022-05-04  20.914759      60.0        8.0\n",
      "9   Norway 2022-05-05  18.633689      60.0        8.0\n",
      "10  Norway 2022-05-03  15.024224      60.0        8.0\n",
      "11  Norway 2022-05-06  20.000957      60.0        8.0\n",
      "12  Norway 2022-05-08   9.966321      60.0        8.0\n",
      "13  Sweden 2022-05-06  18.877550      63.0       15.0\n",
      "14  Sweden 2022-05-05  22.796977      63.0       15.0\n",
      "15  Sweden 2022-05-03  23.364888      63.0       15.0\n",
      "16  Sweden 2022-05-09  17.260791      63.0       15.0\n",
      "17  Sweden 2022-05-04  16.080535      63.0       15.0\n",
      "18  Sweden 2022-05-07  14.421485      63.0       15.0\n",
      "19  Norway 2022-05-07   9.456522      60.0        8.0"
     ]
    }
   ],
   "source": [
    "# środek\n",
    "coordinates = {\n",
    "    \"Poland\": [52.0, 19.0],\n",
    "    \"Norway\": [60.0, 8.0],\n",
    "    \"Sweden\": [63.0, 15.0]\n",
    "}\n",
    "\n",
    "# Dodanie kolumn ze współrzędną \n",
    "countries_df['latitude'] = countries_df['country'].map(lambda x: coordinates[x][0])\n",
    "countries_df['longitude'] = countries_df['country'].map(lambda x: coordinates[x][1])\n",
    "\n",
    "countries_df"
   ]
  },
  {
   "cell_type": "code",
   "execution_count": 67,
   "metadata": {},
   "outputs": [
    {
     "data": {
      "application/vnd.jupyter.widget-view+json": {
       "model_id": "",
       "version_major": 2,
       "version_minor": 0
      },
      "text/plain": [
       "FloatProgress(value=0.0, bar_style='info', description='Progress:', layout=Layout(height='25px', width='50%'),…"
      ]
     },
     "metadata": {},
     "output_type": "display_data"
    },
    {
     "name": "stdout",
     "output_type": "stream",
     "text": [
      "Collecting geopandas\n",
      "  Downloading geopandas-1.0.1-py3-none-any.whl (323 kB)\n",
      "Collecting pyogrio>=0.7.2\n",
      "  Downloading pyogrio-0.10.0-cp39-cp39-manylinux_2_28_x86_64.whl (23.9 MB)\n",
      "Requirement already satisfied: pandas>=1.4.0 in ./tmp/spark-fcc58d45-b46e-42b4-876c-c1246fd1f35a/lib64/python3.9/site-packages (from geopandas) (2.2.3)\n",
      "Collecting shapely>=2.0.0\n",
      "  Downloading shapely-2.0.6-cp39-cp39-manylinux_2_17_x86_64.manylinux2014_x86_64.whl (2.5 MB)\n",
      "Collecting pyproj>=3.3.0\n",
      "  Downloading pyproj-3.6.1-cp39-cp39-manylinux_2_17_x86_64.manylinux2014_x86_64.whl (8.3 MB)\n",
      "Requirement already satisfied: numpy>=1.22 in ./tmp/spark-fcc58d45-b46e-42b4-876c-c1246fd1f35a/lib64/python3.9/site-packages (from geopandas) (2.0.2)\n",
      "Requirement already satisfied: packaging in ./tmp/spark-fcc58d45-b46e-42b4-876c-c1246fd1f35a/lib/python3.9/site-packages (from geopandas) (24.1)\n",
      "Requirement already satisfied: tzdata>=2022.7 in ./tmp/spark-fcc58d45-b46e-42b4-876c-c1246fd1f35a/lib/python3.9/site-packages (from pandas>=1.4.0->geopandas) (2024.2)\n",
      "Requirement already satisfied: python-dateutil>=2.8.2 in ./tmp/spark-fcc58d45-b46e-42b4-876c-c1246fd1f35a/lib/python3.9/site-packages (from pandas>=1.4.0->geopandas) (2.9.0.post0)\n",
      "Requirement already satisfied: pytz>=2020.1 in /usr/local/lib/python3.9/site-packages (from pandas>=1.4.0->geopandas) (2024.1)\n",
      "Collecting certifi\n",
      "  Downloading certifi-2024.8.30-py3-none-any.whl (167 kB)\n",
      "Requirement already satisfied: six>=1.5 in /usr/local/lib/python3.9/site-packages (from python-dateutil>=2.8.2->pandas>=1.4.0->geopandas) (1.13.0)\n",
      "Installing collected packages: certifi, shapely, pyproj, pyogrio, geopandas\n",
      "Successfully installed certifi-2024.8.30 geopandas-1.0.1 pyogrio-0.10.0 pyproj-3.6.1 shapely-2.0.6\n",
      "\n",
      "WARNING: The directory '/home/.cache/pip' or its parent directory is not owned or is not writable by the current user. The cache has been disabled. Check the permissions and owner of that directory. If executing pip with sudo, you should use sudo's -H flag."
     ]
    }
   ],
   "source": [
    "sc.install_pypi_package(\"geopandas\")"
   ]
  },
  {
   "cell_type": "code",
   "execution_count": 83,
   "metadata": {},
   "outputs": [
    {
     "data": {
      "application/vnd.jupyter.widget-view+json": {
       "model_id": "",
       "version_major": 2,
       "version_minor": 0
      },
      "text/plain": [
       "FloatProgress(value=0.0, bar_style='info', description='Progress:', layout=Layout(height='25px', width='50%'),…"
      ]
     },
     "metadata": {},
     "output_type": "display_data"
    }
   ],
   "source": [
    "import geopandas as gpd\n",
    "\n",
    "url = \"https://naciscdn.org/naturalearth/110m/cultural/ne_110m_admin_0_countries.zip\"\n",
    "\n",
    "world = gpd.read_file(url)"
   ]
  },
  {
   "cell_type": "code",
   "execution_count": 84,
   "metadata": {},
   "outputs": [
    {
     "data": {
      "application/vnd.jupyter.widget-view+json": {
       "model_id": "",
       "version_major": 2,
       "version_minor": 0
      },
      "text/plain": [
       "FloatProgress(value=0.0, bar_style='info', description='Progress:', layout=Layout(height='25px', width='50%'),…"
      ]
     },
     "metadata": {},
     "output_type": "display_data"
    },
    {
     "name": "stdout",
     "output_type": "stream",
     "text": [
      "        featurecla  ...                                           geometry\n",
      "0  Admin-0 country  ...  MULTIPOLYGON (((180 -16.06713, 180 -16.55522, ...\n",
      "1  Admin-0 country  ...  POLYGON ((33.90371 -0.95, 34.07262 -1.05982, 3...\n",
      "2  Admin-0 country  ...  POLYGON ((-8.66559 27.65643, -8.66512 27.58948...\n",
      "3  Admin-0 country  ...  MULTIPOLYGON (((-122.84 49, -122.97421 49.0025...\n",
      "4  Admin-0 country  ...  MULTIPOLYGON (((-122.84 49, -120 49, -117.0312...\n",
      "\n",
      "[5 rows x 169 columns]"
     ]
    }
   ],
   "source": [
    "world.head()"
   ]
  },
  {
   "cell_type": "code",
   "execution_count": 88,
   "metadata": {},
   "outputs": [
    {
     "data": {
      "application/vnd.jupyter.widget-view+json": {
       "model_id": "",
       "version_major": 2,
       "version_minor": 0
      },
      "text/plain": [
       "FloatProgress(value=0.0, bar_style='info', description='Progress:', layout=Layout(height='25px', width='50%'),…"
      ]
     },
     "metadata": {},
     "output_type": "display_data"
    },
    {
     "name": "stdout",
     "output_type": "stream",
     "text": [
      "['featurecla', 'scalerank', 'LABELRANK', 'SOVEREIGNT', 'SOV_A3', 'ADM0_DIF', 'LEVEL', 'TYPE', 'TLC', 'ADMIN', 'ADM0_A3', 'GEOU_DIF', 'GEOUNIT', 'GU_A3', 'SU_DIF', 'SUBUNIT', 'SU_A3', 'BRK_DIFF', 'NAME', 'NAME_LONG', 'BRK_A3', 'BRK_NAME', 'BRK_GROUP', 'ABBREV', 'POSTAL', 'FORMAL_EN', 'FORMAL_FR', 'NAME_CIAWF', 'NOTE_ADM0', 'NOTE_BRK', 'NAME_SORT', 'NAME_ALT', 'MAPCOLOR7', 'MAPCOLOR8', 'MAPCOLOR9', 'MAPCOLOR13', 'POP_EST', 'POP_RANK', 'POP_YEAR', 'GDP_MD', 'GDP_YEAR', 'ECONOMY', 'INCOME_GRP', 'FIPS_10', 'ISO_A2', 'ISO_A2_EH', 'ISO_A3', 'ISO_A3_EH', 'ISO_N3', 'ISO_N3_EH', 'UN_A3', 'WB_A2', 'WB_A3', 'WOE_ID', 'WOE_ID_EH', 'WOE_NOTE', 'ADM0_ISO', 'ADM0_DIFF', 'ADM0_TLC', 'ADM0_A3_US', 'ADM0_A3_FR', 'ADM0_A3_RU', 'ADM0_A3_ES', 'ADM0_A3_CN', 'ADM0_A3_TW', 'ADM0_A3_IN', 'ADM0_A3_NP', 'ADM0_A3_PK', 'ADM0_A3_DE', 'ADM0_A3_GB', 'ADM0_A3_BR', 'ADM0_A3_IL', 'ADM0_A3_PS', 'ADM0_A3_SA', 'ADM0_A3_EG', 'ADM0_A3_MA', 'ADM0_A3_PT', 'ADM0_A3_AR', 'ADM0_A3_JP', 'ADM0_A3_KO', 'ADM0_A3_VN', 'ADM0_A3_TR', 'ADM0_A3_ID', 'ADM0_A3_PL', 'ADM0_A3_GR', 'ADM0_A3_IT', 'ADM0_A3_NL', 'ADM0_A3_SE', 'ADM0_A3_BD', 'ADM0_A3_UA', 'ADM0_A3_UN', 'ADM0_A3_WB', 'CONTINENT', 'REGION_UN', 'SUBREGION', 'REGION_WB', 'NAME_LEN', 'LONG_LEN', 'ABBREV_LEN', 'TINY', 'HOMEPART', 'MIN_ZOOM', 'MIN_LABEL', 'MAX_LABEL', 'LABEL_X', 'LABEL_Y', 'NE_ID', 'WIKIDATAID', 'NAME_AR', 'NAME_BN', 'NAME_DE', 'NAME_EN', 'NAME_ES', 'NAME_FA', 'NAME_FR', 'NAME_EL', 'NAME_HE', 'NAME_HI', 'NAME_HU', 'NAME_ID', 'NAME_IT', 'NAME_JA', 'NAME_KO', 'NAME_NL', 'NAME_PL', 'NAME_PT', 'NAME_RU', 'NAME_SV', 'NAME_TR', 'NAME_UK', 'NAME_UR', 'NAME_VI', 'NAME_ZH', 'NAME_ZHT', 'FCLASS_ISO', 'TLC_DIFF', 'FCLASS_TLC', 'FCLASS_US', 'FCLASS_FR', 'FCLASS_RU', 'FCLASS_ES', 'FCLASS_CN', 'FCLASS_TW', 'FCLASS_IN', 'FCLASS_NP', 'FCLASS_PK', 'FCLASS_DE', 'FCLASS_GB', 'FCLASS_BR', 'FCLASS_IL', 'FCLASS_PS', 'FCLASS_SA', 'FCLASS_EG', 'FCLASS_MA', 'FCLASS_PT', 'FCLASS_AR', 'FCLASS_JP', 'FCLASS_KO', 'FCLASS_VN', 'FCLASS_TR', 'FCLASS_ID', 'FCLASS_PL', 'FCLASS_GR', 'FCLASS_IT', 'FCLASS_NL', 'FCLASS_SE', 'FCLASS_BD', 'FCLASS_UA', 'geometry']"
     ]
    }
   ],
   "source": [
    "print(list(world.columns))"
   ]
  },
  {
   "cell_type": "code",
   "execution_count": 99,
   "metadata": {},
   "outputs": [
    {
     "data": {
      "application/vnd.jupyter.widget-view+json": {
       "model_id": "",
       "version_major": 2,
       "version_minor": 0
      },
      "text/plain": [
       "FloatProgress(value=0.0, bar_style='info', description='Progress:', layout=Layout(height='25px', width='50%'),…"
      ]
     },
     "metadata": {},
     "output_type": "display_data"
    }
   ],
   "source": [
    "# Wybierz tylko kolumny 'NAME' i 'geometry' oraz zmień nazwę kolumny 'NAME' na 'name'\n",
    "selected_countries = world[['NAME', 'geometry']].rename(columns={\"NAME\": \"name\"})\n",
    "\n",
    "# Filtrowanie krajów: Polska, Szwecja i Norwegia\n",
    "selected_countries = selected_countries[selected_countries['name'].isin([\"Poland\", \"Sweden\", \"Norway\"])]\n"
   ]
  },
  {
   "cell_type": "code",
   "execution_count": 100,
   "metadata": {},
   "outputs": [
    {
     "data": {
      "application/vnd.jupyter.widget-view+json": {
       "model_id": "",
       "version_major": 2,
       "version_minor": 0
      },
      "text/plain": [
       "FloatProgress(value=0.0, bar_style='info', description='Progress:', layout=Layout(height='25px', width='50%'),…"
      ]
     },
     "metadata": {},
     "output_type": "display_data"
    },
    {
     "name": "stdout",
     "output_type": "stream",
     "text": [
      "       name                                           geometry\n",
      "21   Norway  MULTIPOLYGON (((15.14282 79.67431, 15.52255 80...\n",
      "110  Sweden  POLYGON ((11.02737 58.85615, 11.46827 59.43239...\n",
      "113  Poland  POLYGON ((23.48413 53.9125, 23.52754 53.47012,..."
     ]
    }
   ],
   "source": [
    "selected_countries.head()"
   ]
  },
  {
   "cell_type": "code",
   "execution_count": 101,
   "metadata": {},
   "outputs": [
    {
     "data": {
      "application/vnd.jupyter.widget-view+json": {
       "model_id": "",
       "version_major": 2,
       "version_minor": 0
      },
      "text/plain": [
       "FloatProgress(value=0.0, bar_style='info', description='Progress:', layout=Layout(height='25px', width='50%'),…"
      ]
     },
     "metadata": {},
     "output_type": "display_data"
    }
   ],
   "source": [
    "\n",
    "# Połącz granice z danymi o zanieczyszczeniu\n",
    "merged = selected_countries.set_index('name').join(countries_df.set_index('country'))"
   ]
  },
  {
   "cell_type": "code",
   "execution_count": 123,
   "metadata": {},
   "outputs": [
    {
     "data": {
      "application/vnd.jupyter.widget-view+json": {
       "model_id": "",
       "version_major": 2,
       "version_minor": 0
      },
      "text/plain": [
       "FloatProgress(value=0.0, bar_style='info', description='Progress:', layout=Layout(height='25px', width='50%'),…"
      ]
     },
     "metadata": {},
     "output_type": "display_data"
    }
   ],
   "source": [
    "merged.sort_values(by=\"date\", inplace=True)"
   ]
  },
  {
   "cell_type": "code",
   "execution_count": 145,
   "metadata": {},
   "outputs": [
    {
     "data": {
      "application/vnd.jupyter.widget-view+json": {
       "model_id": "",
       "version_major": 2,
       "version_minor": 0
      },
      "text/plain": [
       "FloatProgress(value=0.0, bar_style='info', description='Progress:', layout=Layout(height='25px', width='50%'),…"
      ]
     },
     "metadata": {},
     "output_type": "display_data"
    }
   ],
   "source": [
    "import matplotlib.pyplot as plt\n",
    "import geopandas as gpd\n",
    "import math\n",
    "\n",
    "# unikalne daty\n",
    "unique_dates = merged['date'].unique()\n",
    "\n",
    "\n",
    "n_dates = len(unique_dates)\n",
    "n_cols = 3  \n",
    "n_rows = math.ceil(n_dates / n_cols)  # Wyliczenie liczby wierszy na podstawie liczby dat\n",
    "\n",
    "\n",
    "fig, axes = plt.subplots(n_rows, n_cols, figsize=(15, 5 * n_rows))\n",
    "fig.suptitle(\"Srednie zanieczyszczenie PM10 dla Polski, Norwegii i Szwecji\", fontsize=16)\n",
    "\n",
    "\n",
    "for i, date in enumerate(unique_dates):\n",
    "    # Filtrowanie danych dla konkretnego dnia\n",
    "    daily_data = merged[merged['date'] == date]\n",
    "    \n",
    "    # Określenie osi (które subploty są wierszami i kolumnami)\n",
    "    ax = axes[i // n_cols, i % n_cols]\n",
    "    \n",
    "    # Tworzenie mapy\n",
    "    daily_data.plot(column='avg_pm10', cmap='OrRd', linewidth=0.8, ax=ax, edgecolor='0.8', legend=True)\n",
    "    \n",
    "    # Ustawienia tytułu i osi dla każdego subplotu\n",
    "    ax.set_title(f\"Data: {date}\")\n",
    "    ax.axis('off')\n",
    "\n",
    "# Wyłączenie nieużywanych subplotów (jeśli liczba subplotów przekracza liczbę dat)\n",
    "for j in range(i + 1, n_rows * n_cols):\n",
    "    fig.delaxes(axes[j // n_cols, j % n_cols])\n",
    "\n",
    "# Dostosowanie układu\n",
    "plt.tight_layout(rect=[0, 0, 1, 0.96])\n",
    "plt.show()\n"
   ]
  },
  {
   "cell_type": "code",
   "execution_count": 146,
   "metadata": {},
   "outputs": [
    {
     "data": {
      "application/vnd.jupyter.widget-view+json": {
       "model_id": "",
       "version_major": 2,
       "version_minor": 0
      },
      "text/plain": [
       "FloatProgress(value=0.0, bar_style='info', description='Progress:', layout=Layout(height='25px', width='50%'),…"
      ]
     },
     "metadata": {},
     "output_type": "display_data"
    },
    {
     "data": {
      "image/png": "[encoded data removed]",
      "text/plain": [
       "<IPython.core.display.Image object>"
      ]
     },
     "metadata": {},
     "output_type": "display_data"
    }
   ],
   "source": [
    "%matplot plt"
   ]
  },
  {
   "cell_type": "markdown",
   "metadata": {},
   "source": [
    "### Zad 5\n",
    "\n",
    "Korzystanie z klastra dla dużych danych\n",
    "Proszę wykonać zadanie 1 dla danych o tak dobranym rozmiarze, żeby czas zapytania wynosił co najmniej 10 minut. Zmierzyć czas wykonania.\n",
    "Zwiększyć klaster do 2, 3, 4, 5, 6, 7 instancji workerów i zmierzyć czasy wykonania.\n",
    "Narysować wykresy czasu, przyspieszenia, efektywności (time, speedup, efficiency)."
   ]
  },
  {
   "cell_type": "code",
   "execution_count": 147,
   "metadata": {},
   "outputs": [
    {
     "data": {
      "application/vnd.jupyter.widget-view+json": {
       "model_id": "",
       "version_major": 2,
       "version_minor": 0
      },
      "text/plain": [
       "FloatProgress(value=0.0, bar_style='info', description='Progress:', layout=Layout(height='25px', width='50%'),…"
      ]
     },
     "metadata": {},
     "output_type": "display_data"
    },
    {
     "name": "stdout",
     "output_type": "stream",
     "text": [
      "935.1067399978638"
     ]
    }
   ],
   "source": [
    "start = time.time()\n",
    "\n",
    "# wczytanie danych z plików CSV, które są skompresowane i znajdują się w lokalizacji w Amazon 3 \n",
    "smog_df = spark \\\n",
    "    .read \\\n",
    "    .format(\"csv\") \\\n",
    "    .option(\"compression\", \"gzip\") \\\n",
    "    .option(\"header\", True) \\\n",
    "    .load(\"s3a://openaq-data-archive/records/csv.gz/locationid=1*/year=2022/month=05/*.csv.gz\")\n",
    "\n",
    "end = time.time()\n",
    "print(end - start)"
   ]
  },
  {
   "cell_type": "code",
   "execution_count": 148,
   "metadata": {},
   "outputs": [
    {
     "data": {
      "application/vnd.jupyter.widget-view+json": {
       "model_id": "",
       "version_major": 2,
       "version_minor": 0
      },
      "text/plain": [
       "FloatProgress(value=0.0, bar_style='info', description='Progress:', layout=Layout(height='25px', width='50%'),…"
      ]
     },
     "metadata": {},
     "output_type": "display_data"
    },
    {
     "name": "stdout",
     "output_type": "stream",
     "text": [
      "0.005292177200317383"
     ]
    }
   ],
   "source": [
    "start = time.time()\n",
    "smog_df = smog_df.withColumn(\"value\", smog_df.value.cast('double'))\n",
    "end = time.time()\n",
    "print(end - start)"
   ]
  },
  {
   "cell_type": "code",
   "execution_count": 149,
   "metadata": {},
   "outputs": [
    {
     "data": {
      "application/vnd.jupyter.widget-view+json": {
       "model_id": "",
       "version_major": 2,
       "version_minor": 0
      },
      "text/plain": [
       "FloatProgress(value=0.0, bar_style='info', description='Progress:', layout=Layout(height='25px', width='50%'),…"
      ]
     },
     "metadata": {},
     "output_type": "display_data"
    },
    {
     "name": "stdout",
     "output_type": "stream",
     "text": [
      "735.2789657115936"
     ]
    }
   ],
   "source": [
    "# # Brak cachowania\n",
    "# smog_df.cache()\n",
    "\n",
    "start = time.time()\n",
    "smog_filtered_max_value = smog_df.filter(col('location').contains(\"Krak\")).select(F.max(\"value\")).collect()[0][0]\n",
    "\n",
    "smog_df = smog_df.withColumn(\"city\", F.split(F.col(\"location\"), \",\")[0])\n",
    "\n",
    "lower_than_kr = smog_df\\\n",
    "            .groupby('city')\\\n",
    "            .agg(F.avg('value').alias('avg_value'))\\\n",
    "            .select(\"city\", \"avg_value\")\\\n",
    "            .filter(col('avg_value')<smog_filtered_max_value)\\\n",
    "            .sort(desc('avg_value'))\n",
    "\n",
    "end = time.time()\n",
    "print(end - start)"
   ]
  },
  {
   "cell_type": "code",
   "execution_count": null,
   "metadata": {},
   "outputs": [],
   "source": []
  },
  {
   "cell_type": "markdown",
   "metadata": {},
   "source": [
    "Po zmianie na 2 instancje"
   ]
  },
  {
   "cell_type": "code",
   "execution_count": 150,
   "metadata": {},
   "outputs": [
    {
     "data": {
      "application/vnd.jupyter.widget-view+json": {
       "model_id": "",
       "version_major": 2,
       "version_minor": 0
      },
      "text/plain": [
       "FloatProgress(value=0.0, bar_style='info', description='Progress:', layout=Layout(height='25px', width='50%'),…"
      ]
     },
     "metadata": {},
     "output_type": "display_data"
    },
    {
     "name": "stdout",
     "output_type": "stream",
     "text": [
      "247.86009216308594"
     ]
    }
   ],
   "source": [
    "start = time.time()\n",
    "smog_filtered_max_value = smog_df.filter(col('location').contains(\"Krak\")).select(F.max(\"value\")).collect()[0][0]\n",
    "\n",
    "lower_than_kr = smog_df\\\n",
    "            .groupby('city')\\\n",
    "            .agg(F.avg('value').alias('avg_value'))\\\n",
    "            .select(\"city\", \"avg_value\")\\\n",
    "            .filter(col('avg_value')<smog_filtered_max_value)\\\n",
    "            .sort(desc('avg_value'))\n",
    "\n",
    "end = time.time()\n",
    "print(end - start)"
   ]
  },
  {
   "cell_type": "code",
   "execution_count": null,
   "metadata": {},
   "outputs": [],
   "source": []
  },
  {
   "cell_type": "markdown",
   "metadata": {},
   "source": [
    "Po zmianie na 3 instancje"
   ]
  },
  {
   "cell_type": "code",
   "execution_count": 151,
   "metadata": {},
   "outputs": [
    {
     "data": {
      "application/vnd.jupyter.widget-view+json": {
       "model_id": "",
       "version_major": 2,
       "version_minor": 0
      },
      "text/plain": [
       "FloatProgress(value=0.0, bar_style='info', description='Progress:', layout=Layout(height='25px', width='50%'),…"
      ]
     },
     "metadata": {},
     "output_type": "display_data"
    },
    {
     "name": "stdout",
     "output_type": "stream",
     "text": [
      "148.09281420707703"
     ]
    }
   ],
   "source": [
    "start = time.time()\n",
    "smog_filtered_max_value = smog_df.filter(col('location').contains(\"Krak\")).select(F.max(\"value\")).collect()[0][0]\n",
    "\n",
    "lower_than_kr = smog_df\\\n",
    "            .groupby('city')\\\n",
    "            .agg(F.avg('value').alias('avg_value'))\\\n",
    "            .select(\"city\", \"avg_value\")\\\n",
    "            .filter(col('avg_value')<smog_filtered_max_value)\\\n",
    "            .sort(desc('avg_value'))\n",
    "\n",
    "end = time.time()\n",
    "print(end - start)"
   ]
  },
  {
   "cell_type": "code",
   "execution_count": null,
   "metadata": {},
   "outputs": [],
   "source": []
  },
  {
   "cell_type": "markdown",
   "metadata": {},
   "source": [
    "Po zmianie na 4 instancje"
   ]
  },
  {
   "cell_type": "code",
   "execution_count": 152,
   "metadata": {},
   "outputs": [
    {
     "data": {
      "application/vnd.jupyter.widget-view+json": {
       "model_id": "",
       "version_major": 2,
       "version_minor": 0
      },
      "text/plain": [
       "FloatProgress(value=0.0, bar_style='info', description='Progress:', layout=Layout(height='25px', width='50%'),…"
      ]
     },
     "metadata": {},
     "output_type": "display_data"
    },
    {
     "name": "stdout",
     "output_type": "stream",
     "text": [
      "155.86704993247986"
     ]
    }
   ],
   "source": [
    "start = time.time()\n",
    "smog_filtered_max_value = smog_df.filter(col('location').contains(\"Krak\")).select(F.max(\"value\")).collect()[0][0]\n",
    "\n",
    "lower_than_kr = smog_df\\\n",
    "            .groupby('city')\\\n",
    "            .agg(F.avg('value').alias('avg_value'))\\\n",
    "            .select(\"city\", \"avg_value\")\\\n",
    "            .filter(col('avg_value')<smog_filtered_max_value)\\\n",
    "            .sort(desc('avg_value'))\n",
    "\n",
    "end = time.time()\n",
    "print(end - start)"
   ]
  },
  {
   "cell_type": "code",
   "execution_count": null,
   "metadata": {},
   "outputs": [],
   "source": []
  },
  {
   "cell_type": "markdown",
   "metadata": {},
   "source": [
    "Po zmianie na 5 instancji"
   ]
  },
  {
   "cell_type": "code",
   "execution_count": 153,
   "metadata": {},
   "outputs": [
    {
     "data": {
      "application/vnd.jupyter.widget-view+json": {
       "model_id": "",
       "version_major": 2,
       "version_minor": 0
      },
      "text/plain": [
       "FloatProgress(value=0.0, bar_style='info', description='Progress:', layout=Layout(height='25px', width='50%'),…"
      ]
     },
     "metadata": {},
     "output_type": "display_data"
    },
    {
     "name": "stdout",
     "output_type": "stream",
     "text": [
      "90.82849264144897"
     ]
    }
   ],
   "source": [
    "start = time.time()\n",
    "smog_filtered_max_value = smog_df.filter(col('location').contains(\"Krak\")).select(F.max(\"value\")).collect()[0][0]\n",
    "\n",
    "lower_than_kr = smog_df\\\n",
    "            .groupby('city')\\\n",
    "            .agg(F.avg('value').alias('avg_value'))\\\n",
    "            .select(\"city\", \"avg_value\")\\\n",
    "            .filter(col('avg_value')<smog_filtered_max_value)\\\n",
    "            .sort(desc('avg_value'))\n",
    "\n",
    "end = time.time()\n",
    "print(end - start)"
   ]
  },
  {
   "cell_type": "code",
   "execution_count": null,
   "metadata": {},
   "outputs": [],
   "source": []
  },
  {
   "cell_type": "markdown",
   "metadata": {},
   "source": [
    "Po zmianie na 6 instancji"
   ]
  },
  {
   "cell_type": "code",
   "execution_count": 154,
   "metadata": {},
   "outputs": [
    {
     "data": {
      "application/vnd.jupyter.widget-view+json": {
       "model_id": "",
       "version_major": 2,
       "version_minor": 0
      },
      "text/plain": [
       "FloatProgress(value=0.0, bar_style='info', description='Progress:', layout=Layout(height='25px', width='50%'),…"
      ]
     },
     "metadata": {},
     "output_type": "display_data"
    },
    {
     "name": "stdout",
     "output_type": "stream",
     "text": [
      "91.28491568565369"
     ]
    }
   ],
   "source": [
    "start = time.time()\n",
    "smog_filtered_max_value = smog_df.filter(col('location').contains(\"Krak\")).select(F.max(\"value\")).collect()[0][0]\n",
    "\n",
    "lower_than_kr = smog_df\\\n",
    "            .groupby('city')\\\n",
    "            .agg(F.avg('value').alias('avg_value'))\\\n",
    "            .select(\"city\", \"avg_value\")\\\n",
    "            .filter(col('avg_value')<smog_filtered_max_value)\\\n",
    "            .sort(desc('avg_value'))\n",
    "\n",
    "end = time.time()\n",
    "print(end - start)"
   ]
  },
  {
   "cell_type": "code",
   "execution_count": null,
   "metadata": {},
   "outputs": [],
   "source": []
  },
  {
   "cell_type": "markdown",
   "metadata": {},
   "source": [
    "Po zmianie na 7 instancji"
   ]
  },
  {
   "cell_type": "code",
   "execution_count": 155,
   "metadata": {},
   "outputs": [
    {
     "data": {
      "application/vnd.jupyter.widget-view+json": {
       "model_id": "",
       "version_major": 2,
       "version_minor": 0
      },
      "text/plain": [
       "FloatProgress(value=0.0, bar_style='info', description='Progress:', layout=Layout(height='25px', width='50%'),…"
      ]
     },
     "metadata": {},
     "output_type": "display_data"
    },
    {
     "name": "stdout",
     "output_type": "stream",
     "text": [
      "76.55273914337158"
     ]
    }
   ],
   "source": [
    "start = time.time()\n",
    "smog_filtered_max_value = smog_df.filter(col('location').contains(\"Krak\")).select(F.max(\"value\")).collect()[0][0]\n",
    "\n",
    "lower_than_kr = smog_df\\\n",
    "            .groupby('city')\\\n",
    "            .agg(F.avg('value').alias('avg_value'))\\\n",
    "            .select(\"city\", \"avg_value\")\\\n",
    "            .filter(col('avg_value')<smog_filtered_max_value)\\\n",
    "            .sort(desc('avg_value'))\n",
    "\n",
    "end = time.time()\n",
    "print(end - start)"
   ]
  },
  {
   "cell_type": "code",
   "execution_count": null,
   "metadata": {},
   "outputs": [],
   "source": []
  },
  {
   "cell_type": "code",
   "execution_count": null,
   "metadata": {},
   "outputs": [],
   "source": []
  },
  {
   "cell_type": "code",
   "execution_count": 156,
   "metadata": {},
   "outputs": [
    {
     "data": {
      "application/vnd.jupyter.widget-view+json": {
       "model_id": "",
       "version_major": 2,
       "version_minor": 0
      },
      "text/plain": [
       "FloatProgress(value=0.0, bar_style='info', description='Progress:', layout=Layout(height='25px', width='50%'),…"
      ]
     },
     "metadata": {},
     "output_type": "display_data"
    }
   ],
   "source": [
    "exec_times = [735.28, 247.86, 148.09, 155.86, 90.83, 91.28, 76.55]"
   ]
  },
  {
   "cell_type": "code",
   "execution_count": 159,
   "metadata": {},
   "outputs": [
    {
     "data": {
      "application/vnd.jupyter.widget-view+json": {
       "model_id": "",
       "version_major": 2,
       "version_minor": 0
      },
      "text/plain": [
       "FloatProgress(value=0.0, bar_style='info', description='Progress:', layout=Layout(height='25px', width='50%'),…"
      ]
     },
     "metadata": {},
     "output_type": "display_data"
    }
   ],
   "source": [
    "\n",
    "x_values = list(range(1, len(exec_times) + 1))\n",
    "\n",
    "plt.figure(figsize=(8, 5))\n",
    "plt.plot(x_values, exec_times, 'o--', color='b')  # 'o' to kropka, '--' to linia przerywana\n",
    "\n",
    "plt.xlabel(\"Liczba instancji workerów\")\n",
    "plt.ylabel(\"Czas wykonania (s)\")\n",
    "\n",
    "plt.title(\"Czas wykonania w zaleznosci od liczby instancji workerow\")\n",
    "\n",
    "plt.show()"
   ]
  },
  {
   "cell_type": "code",
   "execution_count": 160,
   "metadata": {},
   "outputs": [
    {
     "data": {
      "application/vnd.jupyter.widget-view+json": {
       "model_id": "",
       "version_major": 2,
       "version_minor": 0
      },
      "text/plain": [
       "FloatProgress(value=0.0, bar_style='info', description='Progress:', layout=Layout(height='25px', width='50%'),…"
      ]
     },
     "metadata": {},
     "output_type": "display_data"
    },
    {
     "data": {
      "image/png": "[encoded data removed]",
      "text/plain": [
       "<IPython.core.display.Image object>"
      ]
     },
     "metadata": {},
     "output_type": "display_data"
    }
   ],
   "source": [
    "%matplot plt"
   ]
  },
  {
   "cell_type": "code",
   "execution_count": null,
   "metadata": {},
   "outputs": [],
   "source": []
  }
 ],
 "metadata": {
  "application/vnd.databricks.v1+notebook": {
   "dashboards": [],
   "language": "python",
   "notebookMetadata": {
    "pythonIndentUnit": 4
   },
   "notebookName": "ADZD-3-Smog-Intro",
   "widgets": {}
  },
  "kernelspec": {
   "display_name": "PySpark",
   "language": "python",
   "name": "pysparkkernel"
  },
  "language_info": {
   "codemirror_mode": {
    "name": "python",
    "version": 3
   },
   "file_extension": ".py",
   "mimetype": "text/x-python",
   "name": "pyspark",
   "pygments_lexer": "python3"
  }
 },
 "nbformat": 4,
 "nbformat_minor": 1
}
